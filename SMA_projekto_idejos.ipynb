{
  "nbformat": 4,
  "nbformat_minor": 0,
  "metadata": {
    "colab": {
      "name": "SMA-projekto-idejos.ipynb",
      "provenance": [],
      "collapsed_sections": [],
      "authorship_tag": "ABX9TyPixoPS4tnAd0cfaU5DxF2e",
      "include_colab_link": true
    },
    "kernelspec": {
      "name": "python3",
      "display_name": "Python 3"
    }
  },
  "cells": [
    {
      "cell_type": "markdown",
      "metadata": {
        "id": "view-in-github",
        "colab_type": "text"
      },
      "source": [
        "<a href=\"https://colab.research.google.com/github/erinijapranckeviciene/MLdata/blob/main/SMA_projekto_idejos.ipynb\" target=\"_parent\"><img src=\"https://colab.research.google.com/assets/colab-badge.svg\" alt=\"Open In Colab\"/></a>"
      ]
    },
    {
      "cell_type": "markdown",
      "metadata": {
        "id": "D9HHNA5YEmYD"
      },
      "source": [
        "# Pasirinktų tinklo duomenų iš snap.stanford.edu  tinklo parametrų analizė / tyrimas\n",
        "### Projekto idėja ir galimi tyrimo klausimai yra demonstruojami su Juditos (personažų) tinklo duomenimis"
      ]
    },
    {
      "cell_type": "code",
      "metadata": {
        "id": "p2bwLpX3Ej6n"
      },
      "source": [
        "# ikeliam duomenis is Github\n",
        "# \n",
        "import pandas as pd\n",
        "url=\"https://raw.githubusercontent.com/erinijapranckeviciene/MLdata/main/Juditos_tinklo_parametrai.csv\"\n",
        "data = pd.read_csv(url)"
      ],
      "execution_count": 2,
      "outputs": []
    },
    {
      "cell_type": "code",
      "metadata": {
        "colab": {
          "base_uri": "https://localhost:8080/",
          "height": 308
        },
        "id": "aRLVuAlKFwdY",
        "outputId": "66f8a3c7-27d1-41c0-9c45-4556d425c7ce"
      },
      "source": [
        "data.describe()"
      ],
      "execution_count": 4,
      "outputs": [
        {
          "output_type": "execute_result",
          "data": {
            "text/html": [
              "<div>\n",
              "<style scoped>\n",
              "    .dataframe tbody tr th:only-of-type {\n",
              "        vertical-align: middle;\n",
              "    }\n",
              "\n",
              "    .dataframe tbody tr th {\n",
              "        vertical-align: top;\n",
              "    }\n",
              "\n",
              "    .dataframe thead th {\n",
              "        text-align: right;\n",
              "    }\n",
              "</style>\n",
              "<table border=\"1\" class=\"dataframe\">\n",
              "  <thead>\n",
              "    <tr style=\"text-align: right;\">\n",
              "      <th></th>\n",
              "      <th>AverageShortestPathLength</th>\n",
              "      <th>BetweennessCentrality</th>\n",
              "      <th>ClosenessCentrality</th>\n",
              "      <th>ClusteringCoefficient</th>\n",
              "      <th>Degree</th>\n",
              "      <th>Eccentricity</th>\n",
              "      <th>NeighborhoodConnectivity</th>\n",
              "      <th>NumberOfDirectedEdges</th>\n",
              "      <th>NumberOfUndirectedEdges</th>\n",
              "      <th>PartnerOfMultiEdgedNodePairs</th>\n",
              "      <th>Radiality</th>\n",
              "      <th>SelfLoops</th>\n",
              "      <th>Stress</th>\n",
              "      <th>TopologicalCoefficient</th>\n",
              "    </tr>\n",
              "  </thead>\n",
              "  <tbody>\n",
              "    <tr>\n",
              "      <th>count</th>\n",
              "      <td>107.000000</td>\n",
              "      <td>107.000000</td>\n",
              "      <td>107.000000</td>\n",
              "      <td>107.000000</td>\n",
              "      <td>107.000000</td>\n",
              "      <td>107.000000</td>\n",
              "      <td>107.000000</td>\n",
              "      <td>107.0</td>\n",
              "      <td>107.000000</td>\n",
              "      <td>107.0</td>\n",
              "      <td>107.000000</td>\n",
              "      <td>107.0</td>\n",
              "      <td>107.000000</td>\n",
              "      <td>107.000000</td>\n",
              "    </tr>\n",
              "    <tr>\n",
              "      <th>mean</th>\n",
              "      <td>2.903897</td>\n",
              "      <td>0.018132</td>\n",
              "      <td>0.354736</td>\n",
              "      <td>0.551443</td>\n",
              "      <td>6.579439</td>\n",
              "      <td>4.841121</td>\n",
              "      <td>13.942434</td>\n",
              "      <td>0.0</td>\n",
              "      <td>6.579439</td>\n",
              "      <td>0.0</td>\n",
              "      <td>0.947114</td>\n",
              "      <td>0.0</td>\n",
              "      <td>927.925234</td>\n",
              "      <td>0.329108</td>\n",
              "    </tr>\n",
              "    <tr>\n",
              "      <th>std</th>\n",
              "      <td>0.507002</td>\n",
              "      <td>0.044063</td>\n",
              "      <td>0.061777</td>\n",
              "      <td>0.347251</td>\n",
              "      <td>6.611935</td>\n",
              "      <td>0.601092</td>\n",
              "      <td>5.524427</td>\n",
              "      <td>0.0</td>\n",
              "      <td>6.611935</td>\n",
              "      <td>0.0</td>\n",
              "      <td>0.014083</td>\n",
              "      <td>0.0</td>\n",
              "      <td>2083.404415</td>\n",
              "      <td>0.193539</td>\n",
              "    </tr>\n",
              "    <tr>\n",
              "      <th>min</th>\n",
              "      <td>1.952830</td>\n",
              "      <td>0.000000</td>\n",
              "      <td>0.222689</td>\n",
              "      <td>0.000000</td>\n",
              "      <td>1.000000</td>\n",
              "      <td>3.000000</td>\n",
              "      <td>4.000000</td>\n",
              "      <td>0.0</td>\n",
              "      <td>1.000000</td>\n",
              "      <td>0.0</td>\n",
              "      <td>0.903040</td>\n",
              "      <td>0.0</td>\n",
              "      <td>0.000000</td>\n",
              "      <td>0.000000</td>\n",
              "    </tr>\n",
              "    <tr>\n",
              "      <th>25%</th>\n",
              "      <td>2.632075</td>\n",
              "      <td>0.000000</td>\n",
              "      <td>0.327164</td>\n",
              "      <td>0.290850</td>\n",
              "      <td>2.000000</td>\n",
              "      <td>4.500000</td>\n",
              "      <td>10.675000</td>\n",
              "      <td>0.0</td>\n",
              "      <td>2.000000</td>\n",
              "      <td>0.0</td>\n",
              "      <td>0.942872</td>\n",
              "      <td>0.0</td>\n",
              "      <td>0.000000</td>\n",
              "      <td>0.183933</td>\n",
              "    </tr>\n",
              "    <tr>\n",
              "      <th>50%</th>\n",
              "      <td>2.896226</td>\n",
              "      <td>0.000609</td>\n",
              "      <td>0.345277</td>\n",
              "      <td>0.571429</td>\n",
              "      <td>4.000000</td>\n",
              "      <td>5.000000</td>\n",
              "      <td>14.000000</td>\n",
              "      <td>0.0</td>\n",
              "      <td>4.000000</td>\n",
              "      <td>0.0</td>\n",
              "      <td>0.947327</td>\n",
              "      <td>0.0</td>\n",
              "      <td>42.000000</td>\n",
              "      <td>0.355191</td>\n",
              "    </tr>\n",
              "    <tr>\n",
              "      <th>75%</th>\n",
              "      <td>3.056604</td>\n",
              "      <td>0.007961</td>\n",
              "      <td>0.379928</td>\n",
              "      <td>0.833333</td>\n",
              "      <td>7.000000</td>\n",
              "      <td>5.000000</td>\n",
              "      <td>17.562500</td>\n",
              "      <td>0.0</td>\n",
              "      <td>7.000000</td>\n",
              "      <td>0.0</td>\n",
              "      <td>0.954665</td>\n",
              "      <td>0.0</td>\n",
              "      <td>526.000000</td>\n",
              "      <td>0.459070</td>\n",
              "    </tr>\n",
              "    <tr>\n",
              "      <th>max</th>\n",
              "      <td>4.490566</td>\n",
              "      <td>0.229965</td>\n",
              "      <td>0.512077</td>\n",
              "      <td>1.000000</td>\n",
              "      <td>36.000000</td>\n",
              "      <td>6.000000</td>\n",
              "      <td>36.000000</td>\n",
              "      <td>0.0</td>\n",
              "      <td>36.000000</td>\n",
              "      <td>0.0</td>\n",
              "      <td>0.973532</td>\n",
              "      <td>0.0</td>\n",
              "      <td>10346.000000</td>\n",
              "      <td>0.741379</td>\n",
              "    </tr>\n",
              "  </tbody>\n",
              "</table>\n",
              "</div>"
            ],
            "text/plain": [
              "       AverageShortestPathLength  ...  TopologicalCoefficient\n",
              "count                 107.000000  ...              107.000000\n",
              "mean                    2.903897  ...                0.329108\n",
              "std                     0.507002  ...                0.193539\n",
              "min                     1.952830  ...                0.000000\n",
              "25%                     2.632075  ...                0.183933\n",
              "50%                     2.896226  ...                0.355191\n",
              "75%                     3.056604  ...                0.459070\n",
              "max                     4.490566  ...                0.741379\n",
              "\n",
              "[8 rows x 14 columns]"
            ]
          },
          "metadata": {
            "tags": []
          },
          "execution_count": 4
        }
      ]
    },
    {
      "cell_type": "markdown",
      "metadata": {
        "id": "o6AmgnHPWCsv"
      },
      "source": [
        "Nulinius stulpelius ir kitus požymius kurių nenaudosim reikia pašalinti.  "
      ]
    },
    {
      "cell_type": "code",
      "metadata": {
        "colab": {
          "base_uri": "https://localhost:8080/"
        },
        "id": "0DpvReczad9D",
        "outputId": "d06d8677-bfbd-4078-f550-8e196dd79ee2"
      },
      "source": [
        "print(data.dtypes)"
      ],
      "execution_count": 7,
      "outputs": [
        {
          "output_type": "stream",
          "text": [
            "AverageShortestPathLength       float64\n",
            "BetweennessCentrality           float64\n",
            "ClosenessCentrality             float64\n",
            "ClusteringCoefficient           float64\n",
            "Degree                            int64\n",
            "Eccentricity                      int64\n",
            "IsSingleNode                       bool\n",
            "name                             object\n",
            "NeighborhoodConnectivity        float64\n",
            "NumberOfDirectedEdges             int64\n",
            "NumberOfUndirectedEdges           int64\n",
            "PartnerOfMultiEdgedNodePairs      int64\n",
            "Radiality                       float64\n",
            "selected                           bool\n",
            "SelfLoops                         int64\n",
            "shared name                      object\n",
            "Stress                            int64\n",
            "TopologicalCoefficient          float64\n",
            "dtype: object\n"
          ],
          "name": "stdout"
        }
      ]
    },
    {
      "cell_type": "markdown",
      "metadata": {
        "id": "To_ZJy-qEgmv"
      },
      "source": [
        "# Klausimas kurį galima klausti pasitelkiant regresiją.\n",
        "## Tinklo parametras \"Betweennes centrality\" parodo kaip labai konkretus tinklo mazgas įtakoja sąveikas tarp kitų tinklo mazgų. Ar pagal kitus tinklo parametrus galima būtų prognozuoti \"Betweennes centrality\" ? Ar tiesinė prognozė čia tinka?  \n",
        "\n",
        "#### toks uždavinys turėtų prasmę kada mes norėtume modeliuoti situacijas - kada manipuliuodami tinklo ryšius - kažkokiu būdu formuodami sujungimus - pastiprinti kai kurių tiklo \"aktorių\" poveikį kitiems tiklo \"aktoriams\", daryti įtaką per konkrečius mazgus. Galėtume gal pamatyti kokios \"aktoriaus\" charakteristikos labiausiai lemia jo poveikius ir tada jas keisti.   "
      ]
    },
    {
      "cell_type": "code",
      "metadata": {
        "id": "1-94_0ylcOZy"
      },
      "source": [
        "df=pd.DataFrame(data)\n",
        "y=df[['BetweennessCentrality']]\n",
        "# o gal reikia nufiltruoti šį parametrą , nes matome kad trečdalis mazgų turi nulinę vertę? \n",
        "X=df[['ClosenessCentrality','ClusteringCoefficient','Degree','NeighborhoodConnectivity','TopologicalCoefficient']]\n",
        "# ar nėra Degree kintamąjame išskirčių? Kaip jas reiktų pašalinti? Ar regresijos modeliai yra gerseni (R2 požiūriu) po to kada pašalinam išskirtis \n"
      ],
      "execution_count": 11,
      "outputs": []
    },
    {
      "cell_type": "code",
      "metadata": {
        "colab": {
          "base_uri": "https://localhost:8080/"
        },
        "id": "5NbB__yGdtLv",
        "outputId": "2c889d99-b244-4cb0-d8bd-7c84db9fd046"
      },
      "source": [
        "X.head"
      ],
      "execution_count": 12,
      "outputs": [
        {
          "output_type": "execute_result",
          "data": {
            "text/plain": [
              "<bound method NDFrame.head of      ClosenessCentrality  ...  TopologicalCoefficient\n",
              "0               0.325153  ...                0.000000\n",
              "1               0.339744  ...                0.000000\n",
              "2               0.250000  ...                0.000000\n",
              "3               0.340836  ...                0.569444\n",
              "4               0.329193  ...                0.000000\n",
              "..                   ...  ...                     ...\n",
              "102             0.479638  ...                0.176505\n",
              "103             0.392593  ...                0.480769\n",
              "104             0.384058  ...                0.183740\n",
              "105             0.330218  ...                0.437500\n",
              "106             0.389706  ...                0.350000\n",
              "\n",
              "[107 rows x 5 columns]>"
            ]
          },
          "metadata": {
            "tags": []
          },
          "execution_count": 12
        }
      ]
    },
    {
      "cell_type": "code",
      "metadata": {
        "id": "9Nn40Bf3d3xC"
      },
      "source": [
        "from sklearn.model_selection import train_test_split\n",
        "X_train, X_test, y_train, y_test = train_test_split(X, y, random_state=1)"
      ],
      "execution_count": 13,
      "outputs": []
    },
    {
      "cell_type": "code",
      "metadata": {
        "id": "vt6TndPleKZm"
      },
      "source": [
        "from sklearn.metrics import explained_variance_score\n",
        "from sklearn.metrics import mean_absolute_error\n",
        "from sklearn.metrics import r2_score"
      ],
      "execution_count": 14,
      "outputs": []
    },
    {
      "cell_type": "code",
      "metadata": {
        "colab": {
          "base_uri": "https://localhost:8080/"
        },
        "id": "9V8IKe-SeNAS",
        "outputId": "4e1f62ec-a328-441e-91a9-b28f270e65cb"
      },
      "source": [
        "from sklearn.linear_model import LinearRegression, Lasso, Ridge\n",
        "from sklearn.neighbors import KNeighborsRegressor\n",
        "from sklearn.gaussian_process import GaussianProcessRegressor\n",
        "\n",
        "lr = LinearRegression()\n",
        "lasso = Lasso() # gal reikia patikrinti alfa - nes Lasso iš viso neveikia čia\n",
        "ridge = Ridge()\n",
        "#knn = KNeighborsRegressor()\n",
        "#knn1 = KNeighborsRegressor(n_neighbors=1)\n",
        "#knn9 = KNeighborsRegressor(n_neighbors=9)\n",
        "#gp = GaussianProcessRegressor()\n",
        "\n",
        "\n",
        "for model in [lr, lasso, ridge]:\n",
        "    model.fit(X_train, y_train)\n",
        "    predictions = model.predict(X_test)\n",
        "    print(model)    \n",
        "    print(model.coef_)\n",
        "    print(\"\\tExplained variance:\", explained_variance_score(y_test, predictions))\n",
        "    print(\"\\tMean absolute error:\", mean_absolute_error(y_test, predictions))\n",
        "    print(\"\\tR2 score:\", r2_score(y_test, predictions))\n",
        "    print()"
      ],
      "execution_count": 22,
      "outputs": [
        {
          "output_type": "stream",
          "text": [
            "LinearRegression(copy_X=True, fit_intercept=True, n_jobs=None, normalize=False)\n",
            "[[-0.02329083 -0.02517337  0.00487307 -0.00017298  0.02370176]]\n",
            "\tExplained variance: 0.6256101970010313\n",
            "\tMean absolute error: 0.01914876432611324\n",
            "\tR2 score: 0.6220278099587984\n",
            "\n",
            "Lasso(alpha=1.0, copy_X=True, fit_intercept=True, max_iter=1000,\n",
            "      normalize=False, positive=False, precompute=False, random_state=None,\n",
            "      selection='cyclic', tol=0.0001, warm_start=False)\n",
            "[ 0. -0.  0. -0. -0.]\n",
            "\tExplained variance: 2.220446049250313e-16\n",
            "\tMean absolute error: 0.03609271830105391\n",
            "\tR2 score: -0.12166575012410252\n",
            "\n",
            "Ridge(alpha=1.0, copy_X=True, fit_intercept=True, max_iter=None,\n",
            "      normalize=False, random_state=None, solver='auto', tol=0.001)\n",
            "[[-0.00055028 -0.01497272  0.00467512 -0.00027192  0.00469611]]\n",
            "\tExplained variance: 0.6259779300764563\n",
            "\tMean absolute error: 0.01924107161553199\n",
            "\tR2 score: 0.6224564471841018\n",
            "\n"
          ],
          "name": "stdout"
        }
      ]
    },
    {
      "cell_type": "markdown",
      "metadata": {
        "id": "kme3byfmgpBl"
      },
      "source": [
        "# Gal vizualizavimas kaip kad \"pairwise scatterplot\" padėtų atsakyti kokio tipo ryšiai tarp kintamųjų ir ar galim tikėtis gero regresijos modelio? "
      ]
    },
    {
      "cell_type": "markdown",
      "metadata": {
        "id": "hwIZr_WTizUN"
      },
      "source": [
        "# Klausimas kurį galima klausti pasitelkiant klasifikavimą.\n",
        "## Kadangi daug tinklo aktorių turi  \"Betweennes centrality\" (BC) artimą nuliui, bandykim išssiaiškinti ar tinklo aktoriai pagal kitus tinklo parametrus gali būti klasifikuojami į tuos kurie turi poveikį ir tuos kurie neturi? Kokios taisyklės čia veikia?  Turbūt tokiam uždaviniui turi tikti Sprendimų medžio klasifikatorius.  \n",
        "\n"
      ]
    },
    {
      "cell_type": "markdown",
      "metadata": {
        "id": "AdxjVplxqemN"
      },
      "source": [
        "Turim suskirstyti tinklo aktorius į klases ir suformuoti klasių žymes. Klasė \"Turi įtaką \" yra tie aktoriai kurių BC yra ženkliau didesnis už medianą  >0.009 , o klasė \" Neturi įtakos\" kurie mažesni. "
      ]
    },
    {
      "cell_type": "code",
      "metadata": {
        "colab": {
          "base_uri": "https://localhost:8080/"
        },
        "id": "gnooTqOkrNiU",
        "outputId": "77a3aafb-a475-4f13-e846-9d43883cb608"
      },
      "source": [
        "y_r = y\n",
        "y = y_r > 0.009\n",
        "print(y)\n",
        "y.replace(True,'Itakoja', inplace=True)\n",
        "y.replace(False,'NEitakoja', inplace=True)\n",
        "print(y)"
      ],
      "execution_count": 29,
      "outputs": [
        {
          "output_type": "stream",
          "text": [
            "     BetweennessCentrality\n",
            "0                    False\n",
            "1                    False\n",
            "2                    False\n",
            "3                    False\n",
            "4                    False\n",
            "..                     ...\n",
            "102                   True\n",
            "103                  False\n",
            "104                   True\n",
            "105                  False\n",
            "106                  False\n",
            "\n",
            "[107 rows x 1 columns]\n",
            "    BetweennessCentrality\n",
            "0               NEitakoja\n",
            "1               NEitakoja\n",
            "2               NEitakoja\n",
            "3               NEitakoja\n",
            "4               NEitakoja\n",
            "..                    ...\n",
            "102               Itakoja\n",
            "103             NEitakoja\n",
            "104               Itakoja\n",
            "105             NEitakoja\n",
            "106             NEitakoja\n",
            "\n",
            "[107 rows x 1 columns]\n"
          ],
          "name": "stdout"
        }
      ]
    },
    {
      "cell_type": "code",
      "metadata": {
        "colab": {
          "base_uri": "https://localhost:8080/"
        },
        "id": "rtnE_7WcuHAn",
        "outputId": "fa89b8b8-90e2-4476-9c15-ba6a346bec19"
      },
      "source": [
        "X_train, X_test, y_train, y_test = train_test_split(X, y, random_state=1)\n",
        "print(\"Training features/target:\", X_train.shape, y_train.shape)\n",
        "print(\"Testing features/target:\", X_test.shape, y_test.shape)\n",
        "y_train.value_counts()\n",
        "y_test.value_counts()"
      ],
      "execution_count": 30,
      "outputs": [
        {
          "output_type": "stream",
          "text": [
            "Training features/target: (80, 5) (80, 1)\n",
            "Testing features/target: (27, 5) (27, 1)\n"
          ],
          "name": "stdout"
        },
        {
          "output_type": "execute_result",
          "data": {
            "text/plain": [
              "BetweennessCentrality\n",
              "NEitakoja                16\n",
              "Itakoja                  11\n",
              "dtype: int64"
            ]
          },
          "metadata": {
            "tags": []
          },
          "execution_count": 30
        }
      ]
    },
    {
      "cell_type": "markdown",
      "metadata": {
        "id": "tka2gP9Zuk8B"
      },
      "source": [
        "# Sprendimų medis"
      ]
    },
    {
      "cell_type": "code",
      "metadata": {
        "colab": {
          "base_uri": "https://localhost:8080/"
        },
        "id": "kv3fk6YxuToX",
        "outputId": "21f69acf-5997-4247-f845-0b43f26281f1"
      },
      "source": [
        "from sklearn.tree import DecisionTreeClassifier\n",
        "\n",
        "tree = DecisionTreeClassifier(max_depth=3, random_state=0)\n",
        "tree.fit(X, y)\n",
        "tree.score(X, y)"
      ],
      "execution_count": 31,
      "outputs": [
        {
          "output_type": "execute_result",
          "data": {
            "text/plain": [
              "0.9065420560747663"
            ]
          },
          "metadata": {
            "tags": []
          },
          "execution_count": 31
        }
      ]
    },
    {
      "cell_type": "markdown",
      "metadata": {
        "id": "sitneDQdudvI"
      },
      "source": [
        "# Kurie požymiai yra svarbiausi"
      ]
    },
    {
      "cell_type": "code",
      "metadata": {
        "colab": {
          "base_uri": "https://localhost:8080/",
          "height": 428
        },
        "id": "Bl7XaXIBusom",
        "outputId": "5ffba835-67a8-4e98-e7f7-dd1c4e9007fd"
      },
      "source": [
        "%matplotlib inline\n",
        "pd.Series(tree.feature_importances_, index=X.columns).plot.barh(figsize=(18,7));"
      ],
      "execution_count": 32,
      "outputs": [
        {
          "output_type": "display_data",
          "data": {
            "image/png": "[encoded data removed]",
            "text/plain": [
              "<Figure size 1296x504 with 1 Axes>"
            ]
          },
          "metadata": {
            "tags": [],
            "needs_background": "light"
          }
        }
      ]
    },
    {
      "cell_type": "markdown",
      "metadata": {
        "id": "YUAXKgUxu1GP"
      },
      "source": [
        "### Ką reiškia šie požymiai kad jie atrodo svarbiausi atkiriant tinklo \"aktorius\" į tuos kurie įtakoja kitus ir tuos kurie ne? "
      ]
    },
    {
      "cell_type": "markdown",
      "metadata": {
        "id": "fdCxIHPuvkqx"
      },
      "source": [
        "Kokios taisyklės veikia šiam sprendimų medyje?"
      ]
    },
    {
      "cell_type": "code",
      "metadata": {
        "colab": {
          "base_uri": "https://localhost:8080/",
          "height": 514
        },
        "id": "WwHqqBugv3GR",
        "outputId": "4934e3cf-eaed-40dc-9344-843ec2d65c32"
      },
      "source": [
        "# Figure out where graphviz executable lives\n",
        "dotpath = !which dot\n",
        "from sklearn.tree import export_graphviz\n",
        "import sys, subprocess\n",
        "from IPython.display import Image\n",
        "\n",
        "export_graphviz(tree, feature_names=X.columns, class_names=['Itakoja','NEitakoja'],\n",
        "                out_file='ml-good.dot', impurity=False, filled=True)\n",
        "subprocess.check_call([dotpath[0],'-Tpng','ml-good.dot','-o','ml-good.png'])\n",
        "Image('ml-good.png')"
      ],
      "execution_count": 34,
      "outputs": [
        {
          "output_type": "execute_result",
          "data": {
            "image/png": "[encoded data removed]",
            "text/plain": [
              "<IPython.core.display.Image object>"
            ]
          },
          "metadata": {
            "tags": []
          },
          "execution_count": 34
        }
      ]
    },
    {
      "cell_type": "markdown",
      "metadata": {
        "id": "XcTglW8vw2DP"
      },
      "source": [
        "###  Turim informaciją kurią galim interpretuoti- \"aktoriai\" kurie įtakoja kitus šiame tinkle turi ryšius su daugiau negu 12 kitų \"aktorių\".  Toliau matom kad yra grupė aktorių (N=10) kurie pagal mūsų suskirstymą į klases nors priskirti neįtakojančių klasei, vistik turi žymes \"Įtakoja\".  Taip galėjo atsitikti todėl kad mūsų padalinimo į klases kriterijus nėra visai tikslus, reikėtų pasižiūrėti kokios BC reikšmės yra priskirtos tiems \"aktoriams\".  "
      ]
    },
    {
      "cell_type": "markdown",
      "metadata": {
        "id": "Gd8ZJrwiyO0n"
      },
      "source": [
        "Toliau galim būtų tirt sprendimų medžio modelį su mokymo ir testiniais duomenimis, bei keisti jo gylį. "
      ]
    },
    {
      "cell_type": "markdown",
      "metadata": {
        "id": "xNxpF4N7yixc"
      },
      "source": [
        "# Klausimas kurį galima klausti pasitelkiant klasterizavimą.\n",
        "## Įkiek grupių natūraliausiai grupuojasi visi tinklo aktoriai pagal pasirinktus tinklo parametrus ir kokie aktoriai yra tose grupėse? Kokie požymiai vienija tas grupes? \n",
        "\n"
      ]
    },
    {
      "cell_type": "markdown",
      "metadata": {
        "id": "rHlmcE22zDE7"
      },
      "source": [
        "Iliustruosim su taip pačiais požymiais kuriuos naudojom regresijai ir klasifikavimui išskyrus \"Degree\""
      ]
    },
    {
      "cell_type": "code",
      "metadata": {
        "id": "xCxjKMJyzd96"
      },
      "source": [
        "X=df[['ClosenessCentrality','ClusteringCoefficient','NeighborhoodConnectivity','TopologicalCoefficient']]\n",
        "name=df[['name']]"
      ],
      "execution_count": 35,
      "outputs": []
    },
    {
      "cell_type": "code",
      "metadata": {
        "colab": {
          "base_uri": "https://localhost:8080/"
        },
        "id": "qvNqn6VJzryy",
        "outputId": "e64511c8-4076-411f-f62d-98acdb180ae2"
      },
      "source": [
        "print(name)"
      ],
      "execution_count": 36,
      "outputs": [
        {
          "output_type": "stream",
          "text": [
            "        name\n",
            "0     Walton\n",
            "1      Doran\n",
            "2    Shireen\n",
            "3    Chataya\n",
            "4     Ramsay\n",
            "..       ...\n",
            "102    Jaime\n",
            "103    Aerys\n",
            "104  Samwell\n",
            "105    Grenn\n",
            "106    Aemon\n",
            "\n",
            "[107 rows x 1 columns]\n"
          ],
          "name": "stdout"
        }
      ]
    },
    {
      "cell_type": "code",
      "metadata": {
        "colab": {
          "base_uri": "https://localhost:8080/"
        },
        "id": "oSYtbzB30Upr",
        "outputId": "dc0ba49d-956f-4f13-c585-70bb751be6a9"
      },
      "source": [
        "import numpy as np\n",
        "import matplotlib.pyplot as plt\n",
        "\n",
        "from sklearn.cluster import KMeans\n",
        "\n",
        "inertia=np.zeros(shape=(1,10))\n",
        "kn=np.zeros(shape=(1,10))\n",
        "for k in [0,1,2,3,4,5,6,7,8,9]:\n",
        "    kmeans = KMeans(n_clusters=k+1, n_init=100)\n",
        "    y_pred = kmeans.fit_predict(X)\n",
        "    print(\"clusters: \",k+1, \"inertia: \",kmeans.inertia_)\n",
        "    inertia[0,k]=kmeans.inertia_\n",
        "    kn[0,k]=k+1"
      ],
      "execution_count": 38,
      "outputs": [
        {
          "output_type": "stream",
          "text": [
            "clusters:  1 inertia:  3252.2016041291654\n",
            "clusters:  2 inertia:  1346.8889356611485\n",
            "clusters:  3 inertia:  649.396272334577\n",
            "clusters:  4 inertia:  377.2707595353017\n",
            "clusters:  5 inertia:  248.95328225275625\n",
            "clusters:  6 inertia:  158.57020815648912\n",
            "clusters:  7 inertia:  113.43847663866408\n",
            "clusters:  8 inertia:  72.32606425013716\n",
            "clusters:  9 inertia:  54.26389678595632\n",
            "clusters:  10 inertia:  44.21676710626605\n"
          ],
          "name": "stdout"
        }
      ]
    },
    {
      "cell_type": "code",
      "metadata": {
        "colab": {
          "base_uri": "https://localhost:8080/",
          "height": 297
        },
        "id": "dqq4RFh90ZG-",
        "outputId": "cb7d7f33-0b70-46fa-dc38-55934cba5aec"
      },
      "source": [
        "plt.plot(kn[0,:],inertia[0,:],color='green', marker='o', markerfacecolor='blue',linestyle='solid', linewidth=2, markersize=12)\n",
        "plt.xlabel('kn')\n",
        "plt.ylabel('inertia')"
      ],
      "execution_count": 39,
      "outputs": [
        {
          "output_type": "execute_result",
          "data": {
            "text/plain": [
              "Text(0, 0.5, 'inertia')"
            ]
          },
          "metadata": {
            "tags": []
          },
          "execution_count": 39
        },
        {
          "output_type": "display_data",
          "data": {
            "image/png": "[encoded data removed]",
            "text/plain": [
              "<Figure size 432x288 with 1 Axes>"
            ]
          },
          "metadata": {
            "tags": [],
            "needs_background": "light"
          }
        }
      ]
    },
    {
      "cell_type": "markdown",
      "metadata": {
        "id": "0kKhQgGm0tMU"
      },
      "source": [
        "Kiek čia klasterių natūraliai susidaro? \n",
        "Galima sumažinti matumą ir pasižiūrėti kaip duomenys grupuojasi (PCA ir klasterizavimo sasiuvinuko).\n",
        "Pasižiūrėkim kas sudaro keturis klasterius. "
      ]
    },
    {
      "cell_type": "code",
      "metadata": {
        "id": "DT6TRf_91bA_"
      },
      "source": [
        "kmeans = KMeans(n_clusters=4, n_init=100)\n",
        "y_pred = kmeans.fit_predict(X)"
      ],
      "execution_count": 41,
      "outputs": []
    },
    {
      "cell_type": "code",
      "metadata": {
        "colab": {
          "base_uri": "https://localhost:8080/"
        },
        "id": "VZFggkVw1q52",
        "outputId": "b74e6509-20f1-47d3-e66e-d2a8f8440157"
      },
      "source": [
        "print(y_pred)"
      ],
      "execution_count": 42,
      "outputs": [
        {
          "output_type": "stream",
          "text": [
            "[3 3 0 2 3 2 2 2 1 1 2 0 1 1 1 2 1 1 3 1 1 2 1 2 1 1 1 2 3 1 1 2 0 0 0 1 2\n",
            " 0 1 0 1 0 1 0 0 0 0 0 1 1 2 2 2 2 2 2 1 0 1 2 1 2 1 1 1 1 1 2 2 2 2 0 1 0\n",
            " 0 1 0 1 0 1 2 1 1 2 2 0 1 1 1 1 1 1 0 1 1 1 0 0 1 1 0 1 1 3 0 1 1]\n"
          ],
          "name": "stdout"
        }
      ]
    },
    {
      "cell_type": "code",
      "metadata": {
        "colab": {
          "base_uri": "https://localhost:8080/"
        },
        "id": "5hApvI-r1yRy",
        "outputId": "3f162965-7947-461a-d0e3-ccf9fefb856b"
      },
      "source": [
        "print(name[y_pred==0])"
      ],
      "execution_count": 43,
      "outputs": [
        {
          "output_type": "stream",
          "text": [
            "          name\n",
            "2      Shireen\n",
            "11      Lancel\n",
            "32   Salladhor\n",
            "33     Cressen\n",
            "34       Davos\n",
            "37     Rhaegar\n",
            "39   Missandei\n",
            "41       Jorah\n",
            "43    Daenerys\n",
            "44        Irri\n",
            "45       Drogo\n",
            "46      Daario\n",
            "47        Karl\n",
            "57      Roslin\n",
            "71         Nan\n",
            "73       Luwin\n",
            "74       Jojen\n",
            "76     Illyrio\n",
            "78      Belwas\n",
            "85         Jon\n",
            "92       Beric\n",
            "96       Amory\n",
            "97       Mance\n",
            "100     Tyrion\n",
            "104    Samwell\n"
          ],
          "name": "stdout"
        }
      ]
    },
    {
      "cell_type": "code",
      "metadata": {
        "colab": {
          "base_uri": "https://localhost:8080/"
        },
        "id": "Yn7WfK_-1_g5",
        "outputId": "01d94c1d-45fe-4d93-b218-3a7e1a70d696"
      },
      "source": [
        "print(name[y_pred==3])"
      ],
      "execution_count": 45,
      "outputs": [
        {
          "output_type": "stream",
          "text": [
            "       name\n",
            "0    Walton\n",
            "1     Doran\n",
            "4    Ramsay\n",
            "18    Orell\n",
            "28   Qyburn\n",
            "103   Aerys\n"
          ],
          "name": "stdout"
        }
      ]
    },
    {
      "cell_type": "code",
      "metadata": {
        "colab": {
          "base_uri": "https://localhost:8080/",
          "height": 228
        },
        "id": "iZw0viZH2M6q",
        "outputId": "f5f0faa3-465e-4e7b-f8d4-9bd860bfd51e"
      },
      "source": [
        "X.loc[[0,1,4,18,28,103],:]"
      ],
      "execution_count": 57,
      "outputs": [
        {
          "output_type": "execute_result",
          "data": {
            "text/html": [
              "<div>\n",
              "<style scoped>\n",
              "    .dataframe tbody tr th:only-of-type {\n",
              "        vertical-align: middle;\n",
              "    }\n",
              "\n",
              "    .dataframe tbody tr th {\n",
              "        vertical-align: top;\n",
              "    }\n",
              "\n",
              "    .dataframe thead th {\n",
              "        text-align: right;\n",
              "    }\n",
              "</style>\n",
              "<table border=\"1\" class=\"dataframe\">\n",
              "  <thead>\n",
              "    <tr style=\"text-align: right;\">\n",
              "      <th></th>\n",
              "      <th>ClosenessCentrality</th>\n",
              "      <th>ClusteringCoefficient</th>\n",
              "      <th>NeighborhoodConnectivity</th>\n",
              "      <th>TopologicalCoefficient</th>\n",
              "    </tr>\n",
              "  </thead>\n",
              "  <tbody>\n",
              "    <tr>\n",
              "      <th>0</th>\n",
              "      <td>0.325153</td>\n",
              "      <td>0.0</td>\n",
              "      <td>24.0</td>\n",
              "      <td>0.000000</td>\n",
              "    </tr>\n",
              "    <tr>\n",
              "      <th>1</th>\n",
              "      <td>0.339744</td>\n",
              "      <td>0.0</td>\n",
              "      <td>36.0</td>\n",
              "      <td>0.000000</td>\n",
              "    </tr>\n",
              "    <tr>\n",
              "      <th>4</th>\n",
              "      <td>0.329193</td>\n",
              "      <td>0.0</td>\n",
              "      <td>25.0</td>\n",
              "      <td>0.000000</td>\n",
              "    </tr>\n",
              "    <tr>\n",
              "      <th>18</th>\n",
              "      <td>0.325153</td>\n",
              "      <td>0.0</td>\n",
              "      <td>26.0</td>\n",
              "      <td>0.000000</td>\n",
              "    </tr>\n",
              "    <tr>\n",
              "      <th>28</th>\n",
              "      <td>0.325153</td>\n",
              "      <td>0.0</td>\n",
              "      <td>24.0</td>\n",
              "      <td>0.000000</td>\n",
              "    </tr>\n",
              "    <tr>\n",
              "      <th>103</th>\n",
              "      <td>0.392593</td>\n",
              "      <td>1.0</td>\n",
              "      <td>25.0</td>\n",
              "      <td>0.480769</td>\n",
              "    </tr>\n",
              "  </tbody>\n",
              "</table>\n",
              "</div>"
            ],
            "text/plain": [
              "     ClosenessCentrality  ...  TopologicalCoefficient\n",
              "0               0.325153  ...                0.000000\n",
              "1               0.339744  ...                0.000000\n",
              "4               0.329193  ...                0.000000\n",
              "18              0.325153  ...                0.000000\n",
              "28              0.325153  ...                0.000000\n",
              "103             0.392593  ...                0.480769\n",
              "\n",
              "[6 rows x 4 columns]"
            ]
          },
          "metadata": {
            "tags": []
          },
          "execution_count": 57
        }
      ]
    },
    {
      "cell_type": "code",
      "metadata": {
        "colab": {
          "base_uri": "https://localhost:8080/"
        },
        "id": "mWLYV33q42vm",
        "outputId": "695e0e81-69f1-43f5-9eed-cf41e2b30d2c"
      },
      "source": [
        "print(name[y_pred==2])\n"
      ],
      "execution_count": 60,
      "outputs": [
        {
          "output_type": "stream",
          "text": [
            "        name\n",
            "3    Chataya\n",
            "5    Rickard\n",
            "6       Mace\n",
            "7    Ellaria\n",
            "10    Olenna\n",
            "15      Styr\n",
            "21  Myrcella\n",
            "23     Kevan\n",
            "27     Renly\n",
            "31    Eddard\n",
            "36   Viserys\n",
            "50      Shae\n",
            "51   Pycelle\n",
            "52     Meryn\n",
            "53      Ilyn\n",
            "54      Elia\n",
            "55   Stannis\n",
            "59     Petyr\n",
            "61     Jeyne\n",
            "67   Podrick\n",
            "68     Bronn\n",
            "69   Brienne\n",
            "70     Theon\n",
            "80     Balon\n",
            "83     Roose\n",
            "84    Rickon\n"
          ],
          "name": "stdout"
        }
      ]
    },
    {
      "cell_type": "code",
      "metadata": {
        "colab": {
          "base_uri": "https://localhost:8080/",
          "height": 348
        },
        "id": "vt4YlV4u5Vul",
        "outputId": "c3460fef-a703-4428-a20d-921062c6abdf"
      },
      "source": [
        "X.loc[[3,5,6,7,10,69,70,80,83,84],:]"
      ],
      "execution_count": 63,
      "outputs": [
        {
          "output_type": "execute_result",
          "data": {
            "text/html": [
              "<div>\n",
              "<style scoped>\n",
              "    .dataframe tbody tr th:only-of-type {\n",
              "        vertical-align: middle;\n",
              "    }\n",
              "\n",
              "    .dataframe tbody tr th {\n",
              "        vertical-align: top;\n",
              "    }\n",
              "\n",
              "    .dataframe thead th {\n",
              "        text-align: right;\n",
              "    }\n",
              "</style>\n",
              "<table border=\"1\" class=\"dataframe\">\n",
              "  <thead>\n",
              "    <tr style=\"text-align: right;\">\n",
              "      <th></th>\n",
              "      <th>ClosenessCentrality</th>\n",
              "      <th>ClusteringCoefficient</th>\n",
              "      <th>NeighborhoodConnectivity</th>\n",
              "      <th>TopologicalCoefficient</th>\n",
              "    </tr>\n",
              "  </thead>\n",
              "  <tbody>\n",
              "    <tr>\n",
              "      <th>3</th>\n",
              "      <td>0.340836</td>\n",
              "      <td>1.000000</td>\n",
              "      <td>20.500000</td>\n",
              "      <td>0.569444</td>\n",
              "    </tr>\n",
              "    <tr>\n",
              "      <th>5</th>\n",
              "      <td>0.330218</td>\n",
              "      <td>1.000000</td>\n",
              "      <td>16.500000</td>\n",
              "      <td>0.660000</td>\n",
              "    </tr>\n",
              "    <tr>\n",
              "      <th>6</th>\n",
              "      <td>0.348684</td>\n",
              "      <td>1.000000</td>\n",
              "      <td>21.666667</td>\n",
              "      <td>0.528455</td>\n",
              "    </tr>\n",
              "    <tr>\n",
              "      <th>7</th>\n",
              "      <td>0.341935</td>\n",
              "      <td>1.000000</td>\n",
              "      <td>21.500000</td>\n",
              "      <td>0.581081</td>\n",
              "    </tr>\n",
              "    <tr>\n",
              "      <th>10</th>\n",
              "      <td>0.340836</td>\n",
              "      <td>1.000000</td>\n",
              "      <td>17.500000</td>\n",
              "      <td>0.648148</td>\n",
              "    </tr>\n",
              "    <tr>\n",
              "      <th>69</th>\n",
              "      <td>0.388278</td>\n",
              "      <td>0.619048</td>\n",
              "      <td>18.000000</td>\n",
              "      <td>0.339623</td>\n",
              "    </tr>\n",
              "    <tr>\n",
              "      <th>70</th>\n",
              "      <td>0.373239</td>\n",
              "      <td>0.833333</td>\n",
              "      <td>17.750000</td>\n",
              "      <td>0.377660</td>\n",
              "    </tr>\n",
              "    <tr>\n",
              "      <th>80</th>\n",
              "      <td>0.406130</td>\n",
              "      <td>0.800000</td>\n",
              "      <td>21.666667</td>\n",
              "      <td>0.355191</td>\n",
              "    </tr>\n",
              "    <tr>\n",
              "      <th>83</th>\n",
              "      <td>0.358108</td>\n",
              "      <td>0.666667</td>\n",
              "      <td>17.250000</td>\n",
              "      <td>0.466216</td>\n",
              "    </tr>\n",
              "    <tr>\n",
              "      <th>84</th>\n",
              "      <td>0.378571</td>\n",
              "      <td>0.800000</td>\n",
              "      <td>16.666667</td>\n",
              "      <td>0.340136</td>\n",
              "    </tr>\n",
              "  </tbody>\n",
              "</table>\n",
              "</div>"
            ],
            "text/plain": [
              "    ClosenessCentrality  ...  TopologicalCoefficient\n",
              "3              0.340836  ...                0.569444\n",
              "5              0.330218  ...                0.660000\n",
              "6              0.348684  ...                0.528455\n",
              "7              0.341935  ...                0.581081\n",
              "10             0.340836  ...                0.648148\n",
              "69             0.388278  ...                0.339623\n",
              "70             0.373239  ...                0.377660\n",
              "80             0.406130  ...                0.355191\n",
              "83             0.358108  ...                0.466216\n",
              "84             0.378571  ...                0.340136\n",
              "\n",
              "[10 rows x 4 columns]"
            ]
          },
          "metadata": {
            "tags": []
          },
          "execution_count": 63
        }
      ]
    },
    {
      "cell_type": "markdown",
      "metadata": {
        "id": "nrPgaEcE5s-d"
      },
      "source": [
        "### Matome kad klasterių aiškiai skiriasi tinklo parametrai. Tad ką reiškia didelis \"TopologicalCoefficient\" klasteryje 2 lyginant su nuliu klasteryje 3 ?  Kokiu būdu šitas rodiklis charakterizuoja tinklo \"aktorius\" priklausančius klasteriui?  Matom taip pat kad skiriasi ir \"ClusteringCoefficient\" tarp šių klasterių. Tad kaip didesnės ClusteringCoefficient ir TopologicalCoefficient vertės kartu paėmus charakterizuoja klasterį 2?  "
      ]
    }
  ]
}