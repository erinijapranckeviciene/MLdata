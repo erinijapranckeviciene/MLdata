{
  "nbformat": 4,
  "nbformat_minor": 0,
  "metadata": {
    "colab": {
      "name": "Saliu-panasumai-isuic-regresijos-koeficientu-klasterizavimas.ipynb",
      "provenance": [],
      "collapsed_sections": [],
      "authorship_tag": "ABX9TyMIYDhaXQPf29IT+M0WZ+aA",
      "include_colab_link": true
    },
    "kernelspec": {
      "name": "python3",
      "display_name": "Python 3"
    }
  },
  "cells": [
    {
      "cell_type": "markdown",
      "metadata": {
        "id": "view-in-github",
        "colab_type": "text"
      },
      "source": [
        "<a href=\"https://colab.research.google.com/github/erinijapranckeviciene/MLdata/blob/main/Saliu_panasumai_isuic_regresijos_koeficientu_klasterizavimas_EP_VDU_2021_DG.ipynb\" target=\"_parent\"><img src=\"https://colab.research.google.com/assets/colab-badge.svg\" alt=\"Open In Colab\"/></a>"
      ]
    },
    {
      "cell_type": "code",
      "metadata": {
        "id": "DrrvEiBNYYe0"
      },
      "source": [
        "import pandas as pd\n",
        "# ikeliu duomenis is Github, taip patogiau\n",
        "url=\"https://raw.githubusercontent.com/erinijapranckeviciene/MLdata/main/Kaggle-data-suic.csv\"\n",
        "data = pd.read_csv(url)"
      ],
      "execution_count": 44,
      "outputs": []
    },
    {
      "cell_type": "markdown",
      "metadata": {
        "id": "lY9hqMbA-WLJ"
      },
      "source": [
        "# Panaudosim klasterizavimą ištirti šalių panašumą pagal isuic tendencijas- kitimą pagal metus atskirai vyrams ir moterims "
      ]
    },
    {
      "cell_type": "code",
      "metadata": {
        "id": "YER_I4BKdolc",
        "colab": {
          "base_uri": "https://localhost:8080/"
        },
        "outputId": "18f5befb-094f-418f-fd6f-5287f12c697a"
      },
      "source": [
        "print(data.dtypes)"
      ],
      "execution_count": 45,
      "outputs": [
        {
          "output_type": "stream",
          "text": [
            "country                object\n",
            "year                    int64\n",
            "sex                    object\n",
            "age                    object\n",
            "suicides_no             int64\n",
            "population              int64\n",
            "suicides/100k pop     float64\n",
            "country-year           object\n",
            "HDI for year          float64\n",
            " gdp_for_year ($)      object\n",
            "gdp_per_capita ($)      int64\n",
            "generation             object\n",
            "dtype: object\n"
          ],
          "name": "stdout"
        }
      ]
    },
    {
      "cell_type": "markdown",
      "metadata": {
        "id": "i2FtN1V8-8Hg"
      },
      "source": [
        "# Mums reikia pasilikti tik kelis kintamuosius kol kas ir pasidaryti šalių vektorių kad galėtume jį panaudoti cikle"
      ]
    },
    {
      "cell_type": "code",
      "metadata": {
        "id": "K5uU8ZoyeJFq",
        "colab": {
          "base_uri": "https://localhost:8080/",
          "height": 378
        },
        "outputId": "26ddc022-5423-4934-96a7-5516e81b898e"
      },
      "source": [
        "data1=data[['country','year','suicides/100k pop','sex','age']].copy()\n",
        "data1.rename(columns={'suicides/100k pop':'suicides'}, inplace=True)\n",
        "country=data['country'].unique()\n",
        "data1.describe(include='all')\n"
      ],
      "execution_count": 46,
      "outputs": [
        {
          "output_type": "execute_result",
          "data": {
            "text/html": [
              "<div>\n",
              "<style scoped>\n",
              "    .dataframe tbody tr th:only-of-type {\n",
              "        vertical-align: middle;\n",
              "    }\n",
              "\n",
              "    .dataframe tbody tr th {\n",
              "        vertical-align: top;\n",
              "    }\n",
              "\n",
              "    .dataframe thead th {\n",
              "        text-align: right;\n",
              "    }\n",
              "</style>\n",
              "<table border=\"1\" class=\"dataframe\">\n",
              "  <thead>\n",
              "    <tr style=\"text-align: right;\">\n",
              "      <th></th>\n",
              "      <th>country</th>\n",
              "      <th>year</th>\n",
              "      <th>suicides</th>\n",
              "      <th>sex</th>\n",
              "      <th>age</th>\n",
              "    </tr>\n",
              "  </thead>\n",
              "  <tbody>\n",
              "    <tr>\n",
              "      <th>count</th>\n",
              "      <td>27820</td>\n",
              "      <td>27820.000000</td>\n",
              "      <td>27820.000000</td>\n",
              "      <td>27820</td>\n",
              "      <td>27820</td>\n",
              "    </tr>\n",
              "    <tr>\n",
              "      <th>unique</th>\n",
              "      <td>101</td>\n",
              "      <td>NaN</td>\n",
              "      <td>NaN</td>\n",
              "      <td>2</td>\n",
              "      <td>6</td>\n",
              "    </tr>\n",
              "    <tr>\n",
              "      <th>top</th>\n",
              "      <td>Iceland</td>\n",
              "      <td>NaN</td>\n",
              "      <td>NaN</td>\n",
              "      <td>male</td>\n",
              "      <td>15-24 years</td>\n",
              "    </tr>\n",
              "    <tr>\n",
              "      <th>freq</th>\n",
              "      <td>382</td>\n",
              "      <td>NaN</td>\n",
              "      <td>NaN</td>\n",
              "      <td>13910</td>\n",
              "      <td>4642</td>\n",
              "    </tr>\n",
              "    <tr>\n",
              "      <th>mean</th>\n",
              "      <td>NaN</td>\n",
              "      <td>2001.258375</td>\n",
              "      <td>12.816097</td>\n",
              "      <td>NaN</td>\n",
              "      <td>NaN</td>\n",
              "    </tr>\n",
              "    <tr>\n",
              "      <th>std</th>\n",
              "      <td>NaN</td>\n",
              "      <td>8.469055</td>\n",
              "      <td>18.961511</td>\n",
              "      <td>NaN</td>\n",
              "      <td>NaN</td>\n",
              "    </tr>\n",
              "    <tr>\n",
              "      <th>min</th>\n",
              "      <td>NaN</td>\n",
              "      <td>1985.000000</td>\n",
              "      <td>0.000000</td>\n",
              "      <td>NaN</td>\n",
              "      <td>NaN</td>\n",
              "    </tr>\n",
              "    <tr>\n",
              "      <th>25%</th>\n",
              "      <td>NaN</td>\n",
              "      <td>1995.000000</td>\n",
              "      <td>0.920000</td>\n",
              "      <td>NaN</td>\n",
              "      <td>NaN</td>\n",
              "    </tr>\n",
              "    <tr>\n",
              "      <th>50%</th>\n",
              "      <td>NaN</td>\n",
              "      <td>2002.000000</td>\n",
              "      <td>5.990000</td>\n",
              "      <td>NaN</td>\n",
              "      <td>NaN</td>\n",
              "    </tr>\n",
              "    <tr>\n",
              "      <th>75%</th>\n",
              "      <td>NaN</td>\n",
              "      <td>2008.000000</td>\n",
              "      <td>16.620000</td>\n",
              "      <td>NaN</td>\n",
              "      <td>NaN</td>\n",
              "    </tr>\n",
              "    <tr>\n",
              "      <th>max</th>\n",
              "      <td>NaN</td>\n",
              "      <td>2016.000000</td>\n",
              "      <td>224.970000</td>\n",
              "      <td>NaN</td>\n",
              "      <td>NaN</td>\n",
              "    </tr>\n",
              "  </tbody>\n",
              "</table>\n",
              "</div>"
            ],
            "text/plain": [
              "        country          year      suicides    sex          age\n",
              "count     27820  27820.000000  27820.000000  27820        27820\n",
              "unique      101           NaN           NaN      2            6\n",
              "top     Iceland           NaN           NaN   male  15-24 years\n",
              "freq        382           NaN           NaN  13910         4642\n",
              "mean        NaN   2001.258375     12.816097    NaN          NaN\n",
              "std         NaN      8.469055     18.961511    NaN          NaN\n",
              "min         NaN   1985.000000      0.000000    NaN          NaN\n",
              "25%         NaN   1995.000000      0.920000    NaN          NaN\n",
              "50%         NaN   2002.000000      5.990000    NaN          NaN\n",
              "75%         NaN   2008.000000     16.620000    NaN          NaN\n",
              "max         NaN   2016.000000    224.970000    NaN          NaN"
            ]
          },
          "metadata": {
            "tags": []
          },
          "execution_count": 46
        }
      ]
    },
    {
      "cell_type": "code",
      "metadata": {
        "colab": {
          "base_uri": "https://localhost:8080/",
          "height": 198
        },
        "id": "-W0kjrnOF580",
        "outputId": "07928eaf-3d7a-4f6c-a47c-1e4ab0d17eea"
      },
      "source": [
        "data1.head()"
      ],
      "execution_count": 47,
      "outputs": [
        {
          "output_type": "execute_result",
          "data": {
            "text/html": [
              "<div>\n",
              "<style scoped>\n",
              "    .dataframe tbody tr th:only-of-type {\n",
              "        vertical-align: middle;\n",
              "    }\n",
              "\n",
              "    .dataframe tbody tr th {\n",
              "        vertical-align: top;\n",
              "    }\n",
              "\n",
              "    .dataframe thead th {\n",
              "        text-align: right;\n",
              "    }\n",
              "</style>\n",
              "<table border=\"1\" class=\"dataframe\">\n",
              "  <thead>\n",
              "    <tr style=\"text-align: right;\">\n",
              "      <th></th>\n",
              "      <th>country</th>\n",
              "      <th>year</th>\n",
              "      <th>suicides</th>\n",
              "      <th>sex</th>\n",
              "      <th>age</th>\n",
              "    </tr>\n",
              "  </thead>\n",
              "  <tbody>\n",
              "    <tr>\n",
              "      <th>0</th>\n",
              "      <td>Albania</td>\n",
              "      <td>1987</td>\n",
              "      <td>6.71</td>\n",
              "      <td>male</td>\n",
              "      <td>15-24 years</td>\n",
              "    </tr>\n",
              "    <tr>\n",
              "      <th>1</th>\n",
              "      <td>Albania</td>\n",
              "      <td>1987</td>\n",
              "      <td>5.19</td>\n",
              "      <td>male</td>\n",
              "      <td>35-54 years</td>\n",
              "    </tr>\n",
              "    <tr>\n",
              "      <th>2</th>\n",
              "      <td>Albania</td>\n",
              "      <td>1987</td>\n",
              "      <td>4.83</td>\n",
              "      <td>female</td>\n",
              "      <td>15-24 years</td>\n",
              "    </tr>\n",
              "    <tr>\n",
              "      <th>3</th>\n",
              "      <td>Albania</td>\n",
              "      <td>1987</td>\n",
              "      <td>4.59</td>\n",
              "      <td>male</td>\n",
              "      <td>75+ years</td>\n",
              "    </tr>\n",
              "    <tr>\n",
              "      <th>4</th>\n",
              "      <td>Albania</td>\n",
              "      <td>1987</td>\n",
              "      <td>3.28</td>\n",
              "      <td>male</td>\n",
              "      <td>25-34 years</td>\n",
              "    </tr>\n",
              "  </tbody>\n",
              "</table>\n",
              "</div>"
            ],
            "text/plain": [
              "   country  year  suicides     sex          age\n",
              "0  Albania  1987      6.71    male  15-24 years\n",
              "1  Albania  1987      5.19    male  35-54 years\n",
              "2  Albania  1987      4.83  female  15-24 years\n",
              "3  Albania  1987      4.59    male    75+ years\n",
              "4  Albania  1987      3.28    male  25-34 years"
            ]
          },
          "metadata": {
            "tags": []
          },
          "execution_count": 47
        }
      ]
    },
    {
      "cell_type": "markdown",
      "metadata": {
        "id": "hQG1-4vtlAja"
      },
      "source": [
        "Galim bandyti seaborn įvairiais atvaizdavimo būdais, bet dabar nebandysim\n",
        "https://seaborn.pydata.org/examples/horizontal_boxplot.html "
      ]
    },
    {
      "cell_type": "code",
      "metadata": {
        "id": "B3k5cGLDjCxm"
      },
      "source": [
        "import seaborn as sns\n",
        "#sns.pairplot(data1, hue=\"sex\" )"
      ],
      "execution_count": null,
      "outputs": []
    },
    {
      "cell_type": "markdown",
      "metadata": {
        "id": "3dTBxFnKGDiI"
      },
      "source": [
        "# Kad sudaryti regresijos modelius, kiekvienos šalies duomenis reikės atskirai susitvarkyti. Šituose duomenyse suicides taškas yra skirtingas sex ir age, reiškia reikės pakeisti kategorinius į 'one-hot' kodavimą. Pakeitimus atliekam cikle kiekvienai šaliai. Galim ir iš kart skaičiuoti regresijos koeficientus ir formuoti požymių masyvą. "
      ]
    },
    {
      "cell_type": "code",
      "metadata": {
        "colab": {
          "base_uri": "https://localhost:8080/",
          "height": 1000
        },
        "id": "buebYCqSHiWC",
        "outputId": "81965fbb-830e-4ead-fdbe-22510a46f8fc"
      },
      "source": [
        "#pasitikrinam kad viskas gaunasi ir atskiriam šalis\n",
        "salysp = []\n",
        "\n",
        "for c in country:\n",
        "  cdata=data1[(data1['country']==c)]\n",
        "  #print(type(cdata))\n",
        "  #print(cdata.head())\n",
        "  row, col = cdata.shape\n",
        "  print(c,row)\n",
        "  salysp.append([c, row])\n",
        "\n",
        "salys = pd.DataFrame(salysp, columns=['salis', 'n'])\n",
        "salys.head()"
      ],
      "execution_count": 48,
      "outputs": [
        {
          "output_type": "stream",
          "text": [
            "Albania 264\n",
            "Antigua and Barbuda 324\n",
            "Argentina 372\n",
            "Armenia 298\n",
            "Aruba 168\n",
            "Australia 360\n",
            "Austria 382\n",
            "Azerbaijan 192\n",
            "Bahamas 276\n",
            "Bahrain 252\n",
            "Barbados 300\n",
            "Belarus 252\n",
            "Belgium 372\n",
            "Belize 336\n",
            "Bosnia and Herzegovina 24\n",
            "Brazil 372\n",
            "Bulgaria 360\n",
            "Cabo Verde 12\n",
            "Canada 348\n",
            "Chile 372\n",
            "Colombia 372\n",
            "Costa Rica 360\n",
            "Croatia 262\n",
            "Cuba 288\n",
            "Cyprus 178\n",
            "Czech Republic 322\n",
            "Denmark 264\n",
            "Dominica 12\n",
            "Ecuador 372\n",
            "El Salvador 288\n",
            "Estonia 252\n",
            "Fiji 132\n",
            "Finland 348\n",
            "France 360\n",
            "Georgia 264\n",
            "Germany 312\n",
            "Greece 372\n",
            "Grenada 310\n",
            "Guatemala 360\n",
            "Guyana 300\n",
            "Hungary 310\n",
            "Iceland 382\n",
            "Ireland 360\n",
            "Israel 372\n",
            "Italy 372\n",
            "Jamaica 204\n",
            "Japan 372\n",
            "Kazakhstan 312\n",
            "Kiribati 132\n",
            "Kuwait 300\n",
            "Kyrgyzstan 312\n",
            "Latvia 252\n",
            "Lithuania 262\n",
            "Luxembourg 372\n",
            "Macau 12\n",
            "Maldives 120\n",
            "Malta 372\n",
            "Mauritius 382\n",
            "Mexico 372\n",
            "Mongolia 10\n",
            "Montenegro 120\n",
            "Netherlands 382\n",
            "New Zealand 348\n",
            "Nicaragua 72\n",
            "Norway 360\n",
            "Oman 36\n",
            "Panama 300\n",
            "Paraguay 324\n",
            "Philippines 180\n",
            "Poland 288\n",
            "Portugal 324\n",
            "Puerto Rico 372\n",
            "Qatar 178\n",
            "Republic of Korea 372\n",
            "Romania 334\n",
            "Russian Federation 324\n",
            "Saint Kitts and Nevis 36\n",
            "Saint Lucia 336\n",
            "Saint Vincent and Grenadines 300\n",
            "San Marino 36\n",
            "Serbia 216\n",
            "Seychelles 216\n",
            "Singapore 372\n",
            "Slovakia 264\n",
            "Slovenia 252\n",
            "South Africa 240\n",
            "Spain 372\n",
            "Sri Lanka 132\n",
            "Suriname 336\n",
            "Sweden 358\n",
            "Switzerland 252\n",
            "Thailand 334\n",
            "Trinidad and Tobago 324\n",
            "Turkey 84\n",
            "Turkmenistan 348\n",
            "Ukraine 336\n",
            "United Arab Emirates 72\n",
            "United Kingdom 372\n",
            "United States 372\n",
            "Uruguay 336\n",
            "Uzbekistan 264\n"
          ],
          "name": "stdout"
        },
        {
          "output_type": "execute_result",
          "data": {
            "text/html": [
              "<div>\n",
              "<style scoped>\n",
              "    .dataframe tbody tr th:only-of-type {\n",
              "        vertical-align: middle;\n",
              "    }\n",
              "\n",
              "    .dataframe tbody tr th {\n",
              "        vertical-align: top;\n",
              "    }\n",
              "\n",
              "    .dataframe thead th {\n",
              "        text-align: right;\n",
              "    }\n",
              "</style>\n",
              "<table border=\"1\" class=\"dataframe\">\n",
              "  <thead>\n",
              "    <tr style=\"text-align: right;\">\n",
              "      <th></th>\n",
              "      <th>salis</th>\n",
              "      <th>n</th>\n",
              "    </tr>\n",
              "  </thead>\n",
              "  <tbody>\n",
              "    <tr>\n",
              "      <th>0</th>\n",
              "      <td>Albania</td>\n",
              "      <td>264</td>\n",
              "    </tr>\n",
              "    <tr>\n",
              "      <th>1</th>\n",
              "      <td>Antigua and Barbuda</td>\n",
              "      <td>324</td>\n",
              "    </tr>\n",
              "    <tr>\n",
              "      <th>2</th>\n",
              "      <td>Argentina</td>\n",
              "      <td>372</td>\n",
              "    </tr>\n",
              "    <tr>\n",
              "      <th>3</th>\n",
              "      <td>Armenia</td>\n",
              "      <td>298</td>\n",
              "    </tr>\n",
              "    <tr>\n",
              "      <th>4</th>\n",
              "      <td>Aruba</td>\n",
              "      <td>168</td>\n",
              "    </tr>\n",
              "  </tbody>\n",
              "</table>\n",
              "</div>"
            ],
            "text/plain": [
              "                 salis    n\n",
              "0              Albania  264\n",
              "1  Antigua and Barbuda  324\n",
              "2            Argentina  372\n",
              "3              Armenia  298\n",
              "4                Aruba  168"
            ]
          },
          "metadata": {
            "tags": []
          },
          "execution_count": 48
        }
      ]
    },
    {
      "cell_type": "markdown",
      "metadata": {
        "id": "CHkLfNA6Is0a"
      },
      "source": [
        "#Atliekant patikrinimą galim pastebėti kad šalys gali skirtis pagal tai kad kai kuriems metams nėra duomenų. Kol kas pasiliekam taip, o paskui pasirinksim tik tas kurioms yra atitikimas pagal visus metus. "
      ]
    },
    {
      "cell_type": "markdown",
      "metadata": {
        "id": "bVl21bVCN2DH"
      },
      "source": [
        "# Susikonstruojam regresijos modelius kuriuos nagrinėsim"
      ]
    },
    {
      "cell_type": "code",
      "metadata": {
        "id": "hrf_WFHAf9y6"
      },
      "source": [
        "from sklearn.metrics import explained_variance_score\n",
        "from sklearn.metrics import mean_absolute_error\n",
        "from sklearn.metrics import r2_score\n",
        "\n",
        "from time import time\n",
        "\n",
        "from sklearn.neighbors import KNeighborsRegressor\n",
        "from sklearn.linear_model import LinearRegression, RANSACRegressor, Lasso, Ridge\n",
        "from sklearn.gaussian_process import GaussianProcessRegressor\n",
        "from sklearn.svm import SVR\n",
        "from sklearn.svm import LinearSVR\n",
        "\n",
        "regressors = [\n",
        "    LinearRegression(), \n",
        "    #RANSACRegressor(), \n",
        "    KNeighborsRegressor(),\n",
        "    KNeighborsRegressor(n_neighbors=9, metric='manhattan'),\n",
        "    SVR(),\n",
        "    #LinearSVR(),\n",
        "    Lasso(),\n",
        "    Ridge()\n",
        "    #GaussianProcessRegressor(),\n",
        "]\n"
      ],
      "execution_count": 49,
      "outputs": []
    },
    {
      "cell_type": "markdown",
      "metadata": {
        "id": "wfWPHaqZSz0t"
      },
      "source": [
        "# Ištiriam regresijos modelius kurių koeficientų duomenis naudoti klasterizavimui"
      ]
    },
    {
      "cell_type": "code",
      "metadata": {
        "id": "cpRSSO6vQlEE"
      },
      "source": [
        "rez = []\n",
        "# Atliekam modelių tyrimą, rezultatus susirenkam į dataframe\n",
        "for c in country:\n",
        "  print(c)\n",
        "  #paliekam tik šalies duomenis \n",
        "  cdata=data1[(data1['country']==c)]\n",
        "  y_train=cdata['suicides']\n",
        "  #išmetam šalies kintamąjį ir taget kintamąjį\n",
        "  cdata1=cdata.drop(columns=['country','suicides'],axis=1)\n",
        "  X_train=pd.get_dummies(cdata1)\n",
        "  for model in regressors:\n",
        "    start = time()\n",
        "    model.fit(X_train, y_train)\n",
        "    train_time = time() - start\n",
        "    start = time()\n",
        "    predictions = model.predict(X_train)\n",
        "    predict_time = time()-start    \n",
        "    #print(model)\n",
        "    #print(\"\\tTraining time: %0.3fs\" % train_time)\n",
        "    #print(\"\\tPrediction time: %0.3fs\" % predict_time)\n",
        "    #print(\"\\tExplained variance:\", explained_variance_score(y_train, predictions))\n",
        "    evc=explained_variance_score(y_train, predictions)\n",
        "    #print(\"\\tMean absolute error:\", mean_absolute_error(y_train, predictions))\n",
        "    mae=mean_absolute_error(y_train, predictions)\n",
        "    #print(\"\\tR2 score:\", r2_score(y_train, predictions))\n",
        "    r2=r2_score(y_train, predictions)\n",
        "    #print()\n",
        "    rez.append([c, model, evc, mae, r2, train_time])\n",
        "\n",
        "rezdf = pd.DataFrame(rez, columns=['country', 'model', 'explainedVS','MeanAbsErr','R2','Time'])\n",
        "rezdf.head()"
      ],
      "execution_count": null,
      "outputs": []
    },
    {
      "cell_type": "markdown",
      "metadata": {
        "id": "XLNAaJJZYw8Y"
      },
      "source": [
        "# Išanalizuojam rezultatų matricą ir pasirenkam modelį kuris geriausias ar keli geriausi"
      ]
    },
    {
      "cell_type": "code",
      "metadata": {
        "colab": {
          "base_uri": "https://localhost:8080/"
        },
        "id": "UlQJk7DaY-EQ",
        "outputId": "a1bc66a2-050b-4281-f77e-bf8e2e53a990"
      },
      "source": [
        "rezdf\n",
        "# geriau įsirašyti į google drve tokią didelę lentelę\n",
        "from google.colab import drive\n",
        "drive.mount('drive')"
      ],
      "execution_count": 42,
      "outputs": [
        {
          "output_type": "stream",
          "text": [
            "Mounted at drive\n"
          ],
          "name": "stdout"
        }
      ]
    },
    {
      "cell_type": "code",
      "metadata": {
        "id": "fnbQMmznfPel"
      },
      "source": [
        "rezdf.to_csv('regrrez.csv')\n",
        "!cp regrrez.csv \"drive/My Drive/\""
      ],
      "execution_count": 43,
      "outputs": []
    },
    {
      "cell_type": "markdown",
      "metadata": {
        "id": "mrV7L0pagQl0"
      },
      "source": [
        "# Rezultatai rodo kad geriausiai daugymai šalių veikia nerest neighbor regression, bet kaip pasiimti koeficientus?  Ir Ridge regression . Tad pasirinkime Ridge. "
      ]
    },
    {
      "cell_type": "code",
      "metadata": {
        "id": "lcEq12FDrlra"
      },
      "source": [
        "#atsargines eilutes\n",
        "from sklearn.model_selection import train_test_split\n",
        "X_train, X_test, y_train, y_test = train_test_split(X, y, random_state=1)"
      ],
      "execution_count": null,
      "outputs": []
    },
    {
      "cell_type": "code",
      "metadata": {
        "id": "dMSLpXM9XIcM"
      },
      "source": [
        "r2_score?"
      ],
      "execution_count": null,
      "outputs": []
    },
    {
      "cell_type": "markdown",
      "metadata": {
        "id": "zl2KysgDaEfX"
      },
      "source": [
        "Pastebėjimas Regresijos modelis Ridge \"užnulina\" nereikšmingų požymių koeficientus"
      ]
    },
    {
      "cell_type": "code",
      "metadata": {
        "id": "kK4DWf9XaZO-",
        "colab": {
          "base_uri": "https://localhost:8080/"
        },
        "outputId": "6aca495a-36fc-40aa-bc50-1767812bc79a"
      },
      "source": [
        "from sklearn.linear_model import Lasso, Ridge\n",
        "model = Ridge()\n",
        "\n",
        "rez = []\n",
        "# Atliekam modelių tyrimą, rezultatus susirenkam į dataframe\n",
        "for c in country:\n",
        "  #print(c)\n",
        "  #paliekam tik šalies duomenis \n",
        "  cdata=data1[(data1['country']==c)]\n",
        "  y_train=cdata['suicides']\n",
        "  #išmetam šalies kintamąjį ir taget kintamąjį\n",
        "  cdata1=cdata.drop(columns=['country','suicides'],axis=1)\n",
        "  X_train=pd.get_dummies(cdata1)\n",
        "  model.fit(X_train, y_train)\n",
        "  predictions = model.predict(X_train)\n",
        "  evc=explained_variance_score(y_train, predictions)\n",
        "  mae=mean_absolute_error(y_train, predictions)\n",
        "  r2=r2_score(y_train, predictions)\n",
        "  # prijunkime ir regresijos koeficientus ir regresijos metrikas\n",
        "  rez1=model.coef_\n",
        "  print(c, rez1[7], r2, len(rez1))\n",
        "  if len(rez1)==9:\n",
        "   rez.append([c, evc, mae, r2, model.intercept_, model.coef_[0], model.coef_[1], model.coef_[2], model.coef_[3], model.coef_[4], model.coef_[5],model.coef_[6], model.coef_[7], model.coef_[8] ] )\n",
        "#columns=['country', 'explainedVS','MeanAbsErr','R2','intercept','year', 'sex_female', 'sex_male', 'age_15-24_years', 'age_25-34_years','age_35-54_years', 'age_5-14_years', 'age_55-74_years','age_75+ years'])"
      ],
      "execution_count": 89,
      "outputs": [
        {
          "output_type": "stream",
          "text": [
            "Albania -0.3990370370370342 0.2956039373875816 9\n",
            "Antigua and Barbuda 1.288606060606072 0.0646821226732901 9\n",
            "Argentina 2.720820105820031 0.6748494080056677 9\n",
            "Armenia 1.6620440921853166 0.6220446496521241 9\n",
            "Aruba 1.095287356321845 0.15903384107408747 9\n",
            "Australia 0.4923224043715504 0.8178205923609095 9\n",
            "Austria 6.067848288397195 0.7754958630408019 9\n",
            "Azerbaijan 0.8035353535353504 0.39642092442142796 9\n",
            "Bahamas -0.23340425531913186 0.14322765153845085 9\n",
            "Bahrain -0.4112403100775102 0.3631426773850909 9\n",
            "Barbados 1.180947712418212 0.2548592955680484 9\n",
            "Belarus 13.172131782945769 0.7754386631001102 9\n",
            "Belgium 5.2823809523808976 0.7558764458035128 9\n",
            "Belize 0.29429824561405404 0.24339313333712398 9\n",
            "Bosnia and Herzegovina 1.6043333333333365 0.5482846642913349 9\n",
            "Brazil 1.3591534391533775 0.7715381012570159 9\n",
            "Bulgaria 4.60530054644808 0.7702016626410184 9\n",
            "Cabo Verde -1.8355555555555554 0.6243351123779382 9\n",
            "Canada 1.7481355932202722 0.8457299015569091 9\n",
            "Chile 2.352116402116403 0.7601816152509072 9\n",
            "Colombia 0.3982804232804258 0.7327220019138446 9\n",
            "Costa Rica 0.682459016393443 0.7046305288558492 9\n",
            "Croatia 10.574109101757276 0.7935048273237455 9\n",
            "Cuba 8.35268707483003 0.718354591603656 9\n",
            "Cyprus 0.8731594404178825 0.4974306389603478 9\n",
            "Czech Republic 3.909838346099704 0.7666307592666058 9\n",
            "Denmark 5.248555555555488 0.7917797788236851 9\n",
            "Dominica 0.0 1.0 9\n",
            "Ecuador -0.36886243386242806 0.7246599068716415 9\n",
            "El Salvador -1.8814285714285945 0.6914702784502375 9\n",
            "Estonia 9.205581395348904 0.7524707774169864 9\n",
            "Fiji -0.5256521739130416 0.22951434085197153 9\n",
            "Finland 4.9755084745762295 0.796487128459226 9\n",
            "France 4.791939890710668 0.7606883318092752 9\n",
            "Georgia 2.013481481481471 0.6232511201661138 9\n",
            "Germany 3.852924528301954 0.7862645350081966 9\n",
            "Greece 1.2865079365079233 0.742075651588411 9\n",
            "Grenada 1.893033788229457 0.0715578053549768 9\n",
            "Guatemala -0.250437158469918 0.6459464340039631 9\n",
            "Guyana 2.790392156862773 0.5939454497310928 9\n",
            "Hungary 11.397289271565297 0.7938872154809715 9\n",
            "Iceland 5.590052065644733 0.4558178622652358 9\n",
            "Ireland 2.3951639344262117 0.7629922733229777 9\n",
            "Israel 2.4386507936507846 0.7584855171258725 9\n",
            "Italy 3.0332539682540247 0.73339655040743 9\n",
            "Jamaica 0.17199999999999982 0.1598484866158456 9\n",
            "Japan 9.514788359788342 0.798718417183105 9\n",
            "Kazakhstan 6.595345911949718 0.7819438774054253 9\n",
            "Kiribati 0.6752898550724659 0.3475113741801893 9\n",
            "Kuwait -0.3080718954248316 0.5644392175606872 9\n",
            "Kyrgyzstan 4.566918238993671 0.7127856075031023 9\n",
            "Latvia 11.728798449612306 0.7969062419779624 9\n",
            "Lithuania 16.319076547697772 0.8116877325636916 9\n",
            "Luxembourg 5.770899470899393 0.5994210851451514 9\n",
            "Macau -0.7644444444444461 0.8788001796633196 9\n",
            "Maldives -1.3022222222222446 0.05035190678503776 9\n",
            "Malta 0.3201322751322971 0.36774505332990215 9\n",
            "Mauritius -0.41848752889839663 0.5146276654794759 9\n",
            "Mexico 0.1305555555555773 0.7696743898006914 9\n",
            "Mongolia -1.9759999999999998 0.8482367575273573 8\n",
            "Montenegro 4.798333333333307 0.4042232635033517 9\n",
            "Netherlands 3.481995182853678 0.7960432353674974 9\n",
            "New Zealand -0.8237288135592973 0.7796473628371197 9\n",
            "Nicaragua 0.0674358974358891 0.7761595156366279 9\n",
            "Norway 3.5437704918032202 0.8183799894721145 9\n",
            "Oman -0.3738095238095257 0.20899688725597032 9\n",
            "Panama 0.7741830065359528 0.6595678298274201 9\n",
            "Paraguay 0.2833030303030249 0.5770938224998784 9\n",
            "Philippines 0.03747311827956636 0.7331459685044683 9\n",
            "Poland 7.288231292516971 0.8432888099371224 9\n",
            "Portugal 3.909696969696882 0.709716306772556 9\n",
            "Puerto Rico 3.4435449735448787 0.6746565298774404 9\n",
            "Qatar -0.5435933881354207 0.07348103373336345 9\n",
            "Republic of Korea 7.1106613756613894 0.6373851849959771 9\n",
            "Romania 6.661422623507991 0.8181141976160046 9\n",
            "Russian Federation 7.951303030302955 0.7959302808328389 9\n",
            "Saint Kitts and Nevis 0.0 1.0 9\n",
            "Saint Lucia 2.6359064327484805 0.21246685836757329 9\n",
            "Saint Vincent and Grenadines -1.3037581699345306 0.15163917044551578 9\n",
            "San Marino 7.011428571428575 0.278858352302192 9\n",
            "Serbia 8.234639639639594 0.8110492211310314 9\n",
            "Seychelles 0.08126126126128083 0.148717765507294 9\n",
            "Singapore 0.8822222222222211 0.727122457472003 9\n",
            "Slovakia 5.447407407407499 0.684047633041927 9\n",
            "Slovenia 13.546046511627836 0.7759255809636767 9\n",
            "South Africa -0.11369918699186957 0.6598224951758552 9\n",
            "Spain 2.8877248677249296 0.7594282044721381 9\n",
            "Sri Lanka 3.1820289855072263 0.7504872520402552 9\n",
            "Suriname 0.6256140350876367 0.416890192698143 9\n",
            "Sweden 4.862541298407748 0.8071476530143924 9\n",
            "Switzerland 5.8594961240310415 0.7906529831576986 9\n",
            "Thailand 1.0661700718585907 0.7550616672671564 9\n",
            "Trinidad and Tobago 1.5319090909091655 0.6052061119485077 9\n",
            "Turkey 0.2610000000000011 0.7791823169410231 9\n",
            "Turkmenistan 0.298785310734504 0.524124924095576 9\n",
            "Ukraine 10.400350877193036 0.8042675764944498 9\n",
            "United Arab Emirates 0.6503846153846135 0.2566810395183523 9\n",
            "United Kingdom 0.9850264550264305 0.8269628891091627 9\n",
            "United States 2.0895502645502684 0.773703796911657 9\n",
            "Uruguay 6.10286549707592 0.7096193453691653 9\n",
            "Uzbekistan 1.335518518518517 0.702723545137552 9\n"
          ],
          "name": "stdout"
        }
      ]
    },
    {
      "cell_type": "markdown",
      "metadata": {
        "id": "O2Xwj67o5Dbf"
      },
      "source": [
        "# Pasidarom rezultatų lentelę klasterizavimui. Taip pat pagalvokim kaip vizualizuoti regresijos modelius kuriuos pasigaminom, kurie prognozuoja savižudybių skaičiaus kitimą šalyse pagal metus"
      ]
    },
    {
      "cell_type": "code",
      "metadata": {
        "colab": {
          "base_uri": "https://localhost:8080/",
          "height": 198
        },
        "id": "s1j0tML-5PoF",
        "outputId": "9901e4ff-96b0-4205-dc0f-5523d71419b6"
      },
      "source": [
        "#names=X_train.columns\n",
        "#print(names)\n",
        "rezdf = pd.DataFrame(rez, columns=['country', 'explainedVS','MeanAbsErr','R2','intercept','year', 'sex_female', 'sex_male', 'age_15-24 years', 'age_25-34 years','age_35-54 years', 'age_5-14 years', 'age_55-74 years','age_75+ years'])\n",
        "rezdf.head()\n"
      ],
      "execution_count": 91,
      "outputs": [
        {
          "output_type": "execute_result",
          "data": {
            "text/html": [
              "<div>\n",
              "<style scoped>\n",
              "    .dataframe tbody tr th:only-of-type {\n",
              "        vertical-align: middle;\n",
              "    }\n",
              "\n",
              "    .dataframe tbody tr th {\n",
              "        vertical-align: top;\n",
              "    }\n",
              "\n",
              "    .dataframe thead th {\n",
              "        text-align: right;\n",
              "    }\n",
              "</style>\n",
              "<table border=\"1\" class=\"dataframe\">\n",
              "  <thead>\n",
              "    <tr style=\"text-align: right;\">\n",
              "      <th></th>\n",
              "      <th>country</th>\n",
              "      <th>explainedVS</th>\n",
              "      <th>MeanAbsErr</th>\n",
              "      <th>R2</th>\n",
              "      <th>intercept</th>\n",
              "      <th>year</th>\n",
              "      <th>sex_female</th>\n",
              "      <th>sex_male</th>\n",
              "      <th>age_15-24 years</th>\n",
              "      <th>age_25-34 years</th>\n",
              "      <th>age_35-54 years</th>\n",
              "      <th>age_5-14 years</th>\n",
              "      <th>age_55-74 years</th>\n",
              "      <th>age_75+ years</th>\n",
              "    </tr>\n",
              "  </thead>\n",
              "  <tbody>\n",
              "    <tr>\n",
              "      <th>0</th>\n",
              "      <td>Albania</td>\n",
              "      <td>0.295604</td>\n",
              "      <td>2.165933</td>\n",
              "      <td>0.295604</td>\n",
              "      <td>-33.645980</td>\n",
              "      <td>0.018582</td>\n",
              "      <td>-1.078195</td>\n",
              "      <td>1.078195</td>\n",
              "      <td>0.987852</td>\n",
              "      <td>0.755407</td>\n",
              "      <td>0.135185</td>\n",
              "      <td>-3.000815</td>\n",
              "      <td>-0.399037</td>\n",
              "      <td>1.521407</td>\n",
              "    </tr>\n",
              "    <tr>\n",
              "      <th>1</th>\n",
              "      <td>Antigua and Barbuda</td>\n",
              "      <td>0.064682</td>\n",
              "      <td>1.249164</td>\n",
              "      <td>0.064682</td>\n",
              "      <td>-25.845378</td>\n",
              "      <td>0.013203</td>\n",
              "      <td>-0.453681</td>\n",
              "      <td>0.453681</td>\n",
              "      <td>-0.542848</td>\n",
              "      <td>-0.270121</td>\n",
              "      <td>0.610061</td>\n",
              "      <td>-0.542848</td>\n",
              "      <td>1.288606</td>\n",
              "      <td>-0.542848</td>\n",
              "    </tr>\n",
              "    <tr>\n",
              "      <th>2</th>\n",
              "      <td>Argentina</td>\n",
              "      <td>0.674849</td>\n",
              "      <td>4.992420</td>\n",
              "      <td>0.674849</td>\n",
              "      <td>169.092358</td>\n",
              "      <td>-0.079312</td>\n",
              "      <td>-6.637674</td>\n",
              "      <td>6.637674</td>\n",
              "      <td>-1.595847</td>\n",
              "      <td>-2.637275</td>\n",
              "      <td>-1.907116</td>\n",
              "      <td>-9.631402</td>\n",
              "      <td>2.720820</td>\n",
              "      <td>13.050820</td>\n",
              "    </tr>\n",
              "    <tr>\n",
              "      <th>3</th>\n",
              "      <td>Armenia</td>\n",
              "      <td>0.622045</td>\n",
              "      <td>1.563553</td>\n",
              "      <td>0.622045</td>\n",
              "      <td>48.193018</td>\n",
              "      <td>-0.022437</td>\n",
              "      <td>-1.657967</td>\n",
              "      <td>1.657967</td>\n",
              "      <td>-1.966191</td>\n",
              "      <td>-1.056191</td>\n",
              "      <td>0.014005</td>\n",
              "      <td>-3.007083</td>\n",
              "      <td>1.662044</td>\n",
              "      <td>4.353417</td>\n",
              "    </tr>\n",
              "    <tr>\n",
              "      <th>4</th>\n",
              "      <td>Aruba</td>\n",
              "      <td>0.159034</td>\n",
              "      <td>12.804277</td>\n",
              "      <td>0.159034</td>\n",
              "      <td>2091.725540</td>\n",
              "      <td>-1.038885</td>\n",
              "      <td>-6.140118</td>\n",
              "      <td>6.140118</td>\n",
              "      <td>-5.251954</td>\n",
              "      <td>3.460115</td>\n",
              "      <td>0.167011</td>\n",
              "      <td>-9.175402</td>\n",
              "      <td>1.095287</td>\n",
              "      <td>9.704943</td>\n",
              "    </tr>\n",
              "  </tbody>\n",
              "</table>\n",
              "</div>"
            ],
            "text/plain": [
              "               country  explainedVS  ...  age_55-74 years  age_75+ years\n",
              "0              Albania     0.295604  ...        -0.399037       1.521407\n",
              "1  Antigua and Barbuda     0.064682  ...         1.288606      -0.542848\n",
              "2            Argentina     0.674849  ...         2.720820      13.050820\n",
              "3              Armenia     0.622045  ...         1.662044       4.353417\n",
              "4                Aruba     0.159034  ...         1.095287       9.704943\n",
              "\n",
              "[5 rows x 14 columns]"
            ]
          },
          "metadata": {
            "tags": []
          },
          "execution_count": 91
        }
      ]
    },
    {
      "cell_type": "markdown",
      "metadata": {
        "id": "1XkcsfEIJ1TM"
      },
      "source": [
        "# Kaip vizualizuoti , ką vzualizuoti, ką galėtume ištirti šitoj lentelėj?  Čia mūsų duomenys klasterizavimo algoritmų taikymui. "
      ]
    }
  ]
}