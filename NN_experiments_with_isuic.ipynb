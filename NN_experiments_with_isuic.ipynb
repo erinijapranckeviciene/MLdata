{
  "nbformat": 4,
  "nbformat_minor": 0,
  "metadata": {
    "colab": {
      "name": "NN-experiments-with-isuic.ipynb",
      "provenance": [],
      "collapsed_sections": [],
      "authorship_tag": "ABX9TyNsS27d083KAwGDSurulibG",
      "include_colab_link": true
    },
    "kernelspec": {
      "name": "python3",
      "display_name": "Python 3"
    }
  },
  "cells": [
    {
      "cell_type": "markdown",
      "metadata": {
        "id": "view-in-github",
        "colab_type": "text"
      },
      "source": [
        "<a href=\"https://colab.research.google.com/github/erinijapranckeviciene/MLdata/blob/main/NN_experiments_with_isuic.ipynb\" target=\"_parent\"><img src=\"https://colab.research.google.com/assets/colab-badge.svg\" alt=\"Open In Colab\"/></a>"
      ]
    },
    {
      "cell_type": "code",
      "metadata": {
        "id": "ENooMK9O72bX"
      },
      "source": [
        ""
      ],
      "execution_count": null,
      "outputs": []
    },
    {
      "cell_type": "markdown",
      "metadata": {
        "id": "CQV7JRYC7Ifc"
      },
      "source": [
        "# isuic data "
      ]
    },
    {
      "cell_type": "markdown",
      "metadata": {
        "id": "21YryzQo7H8c"
      },
      "source": [
        ""
      ]
    },
    {
      "cell_type": "code",
      "metadata": {
        "id": "DrrvEiBNYYe0"
      },
      "source": [
        "import pandas as pd\n",
        "# read the data\n",
        "url=\"https://raw.githubusercontent.com/erinijapranckeviciene/MLdata/main/Kaggle-data-suic.csv\"\n",
        "data = pd.read_csv(url)"
      ],
      "execution_count": 1,
      "outputs": []
    },
    {
      "cell_type": "code",
      "metadata": {
        "id": "Cs3lCzc1msoM",
        "colab": {
          "base_uri": "https://localhost:8080/"
        },
        "outputId": "1ca5ed61-ea8a-4584-bee3-537d57b0fa32"
      },
      "source": [
        "print(data.columns)"
      ],
      "execution_count": 2,
      "outputs": [
        {
          "output_type": "stream",
          "text": [
            "Index(['country', 'year', 'sex', 'age', 'suicides_no', 'population',\n",
            "       'suicides/100k pop', 'country-year', 'HDI for year',\n",
            "       ' gdp_for_year ($) ', 'gdp_per_capita ($)', 'generation'],\n",
            "      dtype='object')\n"
          ],
          "name": "stdout"
        }
      ]
    },
    {
      "cell_type": "markdown",
      "metadata": {
        "id": "kjr57qewgp7O"
      },
      "source": [
        "Clean the data , change col names"
      ]
    },
    {
      "cell_type": "code",
      "metadata": {
        "colab": {
          "base_uri": "https://localhost:8080/"
        },
        "id": "4phgj88pgwd_",
        "outputId": "bf32845b-d63f-4b3f-a790-d2bfe9d207d9"
      },
      "source": [
        "isuic=data.drop(['suicides/100k pop', 'country-year', 'HDI for year',\n",
        "       ' gdp_for_year ($) ', 'generation', 'population'], axis=1)\n",
        "print(isuic.columns)\n",
        "\n"
      ],
      "execution_count": 4,
      "outputs": [
        {
          "output_type": "stream",
          "text": [
            "Index(['country', 'year', 'sex', 'age', 'suicides_no', 'gdp_per_capita ($)'], dtype='object')\n"
          ],
          "name": "stdout"
        }
      ]
    },
    {
      "cell_type": "markdown",
      "metadata": {
        "id": "iVZcIK_fBvnl"
      },
      "source": [
        "Describe data"
      ]
    },
    {
      "cell_type": "code",
      "metadata": {
        "id": "R0OqIQ4ZBueR",
        "colab": {
          "base_uri": "https://localhost:8080/",
          "height": 375
        },
        "outputId": "cab9fd8c-1271-4243-acf5-9329dda7d50e"
      },
      "source": [
        "isuic.describe(include=['int','int64','float','object'])"
      ],
      "execution_count": 5,
      "outputs": [
        {
          "output_type": "execute_result",
          "data": {
            "text/html": [
              "<div>\n",
              "<style scoped>\n",
              "    .dataframe tbody tr th:only-of-type {\n",
              "        vertical-align: middle;\n",
              "    }\n",
              "\n",
              "    .dataframe tbody tr th {\n",
              "        vertical-align: top;\n",
              "    }\n",
              "\n",
              "    .dataframe thead th {\n",
              "        text-align: right;\n",
              "    }\n",
              "</style>\n",
              "<table border=\"1\" class=\"dataframe\">\n",
              "  <thead>\n",
              "    <tr style=\"text-align: right;\">\n",
              "      <th></th>\n",
              "      <th>country</th>\n",
              "      <th>year</th>\n",
              "      <th>sex</th>\n",
              "      <th>age</th>\n",
              "      <th>suicides_no</th>\n",
              "      <th>gdp_per_capita ($)</th>\n",
              "    </tr>\n",
              "  </thead>\n",
              "  <tbody>\n",
              "    <tr>\n",
              "      <th>count</th>\n",
              "      <td>27820</td>\n",
              "      <td>27820.000000</td>\n",
              "      <td>27820</td>\n",
              "      <td>27820</td>\n",
              "      <td>27820.000000</td>\n",
              "      <td>27820.000000</td>\n",
              "    </tr>\n",
              "    <tr>\n",
              "      <th>unique</th>\n",
              "      <td>101</td>\n",
              "      <td>NaN</td>\n",
              "      <td>2</td>\n",
              "      <td>6</td>\n",
              "      <td>NaN</td>\n",
              "      <td>NaN</td>\n",
              "    </tr>\n",
              "    <tr>\n",
              "      <th>top</th>\n",
              "      <td>Austria</td>\n",
              "      <td>NaN</td>\n",
              "      <td>female</td>\n",
              "      <td>75+ years</td>\n",
              "      <td>NaN</td>\n",
              "      <td>NaN</td>\n",
              "    </tr>\n",
              "    <tr>\n",
              "      <th>freq</th>\n",
              "      <td>382</td>\n",
              "      <td>NaN</td>\n",
              "      <td>13910</td>\n",
              "      <td>4642</td>\n",
              "      <td>NaN</td>\n",
              "      <td>NaN</td>\n",
              "    </tr>\n",
              "    <tr>\n",
              "      <th>mean</th>\n",
              "      <td>NaN</td>\n",
              "      <td>2001.258375</td>\n",
              "      <td>NaN</td>\n",
              "      <td>NaN</td>\n",
              "      <td>242.574407</td>\n",
              "      <td>16866.464414</td>\n",
              "    </tr>\n",
              "    <tr>\n",
              "      <th>std</th>\n",
              "      <td>NaN</td>\n",
              "      <td>8.469055</td>\n",
              "      <td>NaN</td>\n",
              "      <td>NaN</td>\n",
              "      <td>902.047917</td>\n",
              "      <td>18887.576472</td>\n",
              "    </tr>\n",
              "    <tr>\n",
              "      <th>min</th>\n",
              "      <td>NaN</td>\n",
              "      <td>1985.000000</td>\n",
              "      <td>NaN</td>\n",
              "      <td>NaN</td>\n",
              "      <td>0.000000</td>\n",
              "      <td>251.000000</td>\n",
              "    </tr>\n",
              "    <tr>\n",
              "      <th>25%</th>\n",
              "      <td>NaN</td>\n",
              "      <td>1995.000000</td>\n",
              "      <td>NaN</td>\n",
              "      <td>NaN</td>\n",
              "      <td>3.000000</td>\n",
              "      <td>3447.000000</td>\n",
              "    </tr>\n",
              "    <tr>\n",
              "      <th>50%</th>\n",
              "      <td>NaN</td>\n",
              "      <td>2002.000000</td>\n",
              "      <td>NaN</td>\n",
              "      <td>NaN</td>\n",
              "      <td>25.000000</td>\n",
              "      <td>9372.000000</td>\n",
              "    </tr>\n",
              "    <tr>\n",
              "      <th>75%</th>\n",
              "      <td>NaN</td>\n",
              "      <td>2008.000000</td>\n",
              "      <td>NaN</td>\n",
              "      <td>NaN</td>\n",
              "      <td>131.000000</td>\n",
              "      <td>24874.000000</td>\n",
              "    </tr>\n",
              "    <tr>\n",
              "      <th>max</th>\n",
              "      <td>NaN</td>\n",
              "      <td>2016.000000</td>\n",
              "      <td>NaN</td>\n",
              "      <td>NaN</td>\n",
              "      <td>22338.000000</td>\n",
              "      <td>126352.000000</td>\n",
              "    </tr>\n",
              "  </tbody>\n",
              "</table>\n",
              "</div>"
            ],
            "text/plain": [
              "        country          year  ...   suicides_no gdp_per_capita ($)\n",
              "count     27820  27820.000000  ...  27820.000000       27820.000000\n",
              "unique      101           NaN  ...           NaN                NaN\n",
              "top     Austria           NaN  ...           NaN                NaN\n",
              "freq        382           NaN  ...           NaN                NaN\n",
              "mean        NaN   2001.258375  ...    242.574407       16866.464414\n",
              "std         NaN      8.469055  ...    902.047917       18887.576472\n",
              "min         NaN   1985.000000  ...      0.000000         251.000000\n",
              "25%         NaN   1995.000000  ...      3.000000        3447.000000\n",
              "50%         NaN   2002.000000  ...     25.000000        9372.000000\n",
              "75%         NaN   2008.000000  ...    131.000000       24874.000000\n",
              "max         NaN   2016.000000  ...  22338.000000      126352.000000\n",
              "\n",
              "[11 rows x 6 columns]"
            ]
          },
          "metadata": {
            "tags": []
          },
          "execution_count": 5
        }
      ]
    },
    {
      "cell_type": "code",
      "metadata": {
        "id": "zjg3rHr8oGl2"
      },
      "source": [
        "Y_country=isuic['country']\r\n",
        "X_country=isuic.drop(['country'], axis=1)\r\n",
        "\r\n",
        "Y_year=isuic['year']\r\n",
        "X_year=isuic.drop(['year'], axis=1)\r\n",
        "\r\n",
        "Y_sex=isuic['sex']\r\n",
        "X_sex=isuic.drop(['sex'], axis=1)\r\n",
        "\r\n",
        "Y_age=isuic['age']\r\n",
        "X_age=isuic.drop(['age'], axis=1)\r\n",
        "\r\n",
        "Y_suicno=isuic['suicides_no']\r\n",
        "X_suicno=isuic.drop(['suicides_no'], axis=1)\r\n"
      ],
      "execution_count": 12,
      "outputs": []
    },
    {
      "cell_type": "code",
      "metadata": {
        "id": "hrf_WFHAf9y6",
        "colab": {
          "base_uri": "https://localhost:8080/"
        },
        "outputId": "8895d951-4bd5-42b3-a89f-365b541b18cb"
      },
      "source": [
        "X_country_dummies=pd.get_dummies(X_country)\n",
        "#list(isuic_male_reduced_dummies.columns)\n",
        "print(X_country_dummies.shape)"
      ],
      "execution_count": 13,
      "outputs": [
        {
          "output_type": "stream",
          "text": [
            "(27820, 11)\n"
          ],
          "name": "stdout"
        }
      ]
    },
    {
      "cell_type": "code",
      "metadata": {
        "colab": {
          "base_uri": "https://localhost:8080/"
        },
        "id": "pU9tk1Dbf2XQ",
        "outputId": "2e186a9a-3243-495d-c17d-fce5976bdd15"
      },
      "source": [
        "from sklearn.model_selection import train_test_split\r\n",
        "X_train, X_test, y_train, y_test = train_test_split(X_country_dummies, Y_country, random_state=1)\r\n",
        "print(\"Training features/target:\", X_train.shape, y_train.shape)\r\n",
        "print(\"Testing features/target:\", X_test.shape, y_test.shape)"
      ],
      "execution_count": 14,
      "outputs": [
        {
          "output_type": "stream",
          "text": [
            "Training features/target: (20865, 11) (20865,)\n",
            "Testing features/target: (6955, 11) (6955,)\n"
          ],
          "name": "stdout"
        }
      ]
    },
    {
      "cell_type": "code",
      "metadata": {
        "colab": {
          "base_uri": "https://localhost:8080/"
        },
        "id": "w_4VHprU1tkF",
        "outputId": "8bdd07fc-caac-4b95-92bf-07355994983e"
      },
      "source": [
        "import numpy as np\r\n",
        "np.count_nonzero(np.isnan(X_train))"
      ],
      "execution_count": 24,
      "outputs": [
        {
          "output_type": "execute_result",
          "data": {
            "text/plain": [
              "0"
            ]
          },
          "metadata": {
            "tags": []
          },
          "execution_count": 24
        }
      ]
    },
    {
      "cell_type": "code",
      "metadata": {
        "id": "RwdbXm10ySUn"
      },
      "source": [
        "from tensorflow import keras\r\n",
        "encoder = keras.models.Sequential([keras.layers.Dense(2,  input_shape=[11])])\r\n",
        "decoder = keras.models.Sequential([keras.layers.Dense(11, input_shape=[2])])\r\n",
        "autoencoder = keras.models.Sequential([encoder, decoder])\r\n",
        "autoencoder.compile(loss=\"mse\", optimizer=keras.optimizers.SGD(lr=0.1))"
      ],
      "execution_count": 26,
      "outputs": []
    },
    {
      "cell_type": "code",
      "metadata": {
        "colab": {
          "base_uri": "https://localhost:8080/"
        },
        "id": "YFTCoaJZ6Sdt",
        "outputId": "585dd2a1-53f8-4414-e7c8-2c1b77911ce5"
      },
      "source": [
        "autoencoder.summary()"
      ],
      "execution_count": 28,
      "outputs": [
        {
          "output_type": "stream",
          "text": [
            "Model: \"sequential_12\"\n",
            "_________________________________________________________________\n",
            "Layer (type)                 Output Shape              Param #   \n",
            "=================================================================\n",
            "sequential_10 (Sequential)   (None, 2)                 24        \n",
            "_________________________________________________________________\n",
            "sequential_11 (Sequential)   (None, 11)                33        \n",
            "=================================================================\n",
            "Total params: 57\n",
            "Trainable params: 57\n",
            "Non-trainable params: 0\n",
            "_________________________________________________________________\n"
          ],
          "name": "stdout"
        }
      ]
    },
    {
      "cell_type": "code",
      "metadata": {
        "id": "rCcdiCHe6SLZ"
      },
      "source": [
        ""
      ],
      "execution_count": null,
      "outputs": []
    },
    {
      "cell_type": "code",
      "metadata": {
        "colab": {
          "base_uri": "https://localhost:8080/"
        },
        "id": "mRIukdZJz9WO",
        "outputId": "ea10ef50-ccb5-4bcc-f7c0-5192ad2174d6"
      },
      "source": [
        "history = autoencoder.fit(X_train, X_train, epochs=20)\r\n",
        "codings = encoder.predict(X_train)"
      ],
      "execution_count": 27,
      "outputs": [
        {
          "output_type": "stream",
          "text": [
            "Epoch 1/20\n",
            "653/653 [==============================] - 1s 819us/step - loss: nan\n",
            "Epoch 2/20\n",
            "653/653 [==============================] - 1s 804us/step - loss: nan\n",
            "Epoch 3/20\n",
            "653/653 [==============================] - 1s 865us/step - loss: nan\n",
            "Epoch 4/20\n",
            "653/653 [==============================] - 1s 845us/step - loss: nan\n",
            "Epoch 5/20\n",
            "653/653 [==============================] - 1s 845us/step - loss: nan\n",
            "Epoch 6/20\n",
            "653/653 [==============================] - 1s 874us/step - loss: nan\n",
            "Epoch 7/20\n",
            "653/653 [==============================] - 1s 860us/step - loss: nan\n",
            "Epoch 8/20\n",
            "653/653 [==============================] - 1s 867us/step - loss: nan\n",
            "Epoch 9/20\n",
            "653/653 [==============================] - 1s 860us/step - loss: nan\n",
            "Epoch 10/20\n",
            "653/653 [==============================] - 1s 886us/step - loss: nan\n",
            "Epoch 11/20\n",
            "653/653 [==============================] - 1s 869us/step - loss: nan\n",
            "Epoch 12/20\n",
            "653/653 [==============================] - 1s 842us/step - loss: nan\n",
            "Epoch 13/20\n",
            "653/653 [==============================] - 1s 850us/step - loss: nan\n",
            "Epoch 14/20\n",
            "653/653 [==============================] - 1s 881us/step - loss: nan\n",
            "Epoch 15/20\n",
            "653/653 [==============================] - 1s 869us/step - loss: nan\n",
            "Epoch 16/20\n",
            "653/653 [==============================] - 1s 832us/step - loss: nan\n",
            "Epoch 17/20\n",
            "653/653 [==============================] - 1s 843us/step - loss: nan\n",
            "Epoch 18/20\n",
            "653/653 [==============================] - 1s 829us/step - loss: nan\n",
            "Epoch 19/20\n",
            "653/653 [==============================] - 1s 836us/step - loss: nan\n",
            "Epoch 20/20\n",
            "653/653 [==============================] - 1s 816us/step - loss: nan\n"
          ],
          "name": "stdout"
        }
      ]
    },
    {
      "cell_type": "code",
      "metadata": {
        "colab": {
          "base_uri": "https://localhost:8080/"
        },
        "id": "F4EZkiQN5Cnq",
        "outputId": "663f59c6-7a84-485a-88ec-c531b099972f"
      },
      "source": [
        "print(codings)"
      ],
      "execution_count": 25,
      "outputs": [
        {
          "output_type": "stream",
          "text": [
            "[[nan nan]\n",
            " [nan nan]\n",
            " [nan nan]\n",
            " ...\n",
            " [nan nan]\n",
            " [nan nan]\n",
            " [nan nan]]\n"
          ],
          "name": "stdout"
        }
      ]
    },
    {
      "cell_type": "code",
      "metadata": {
        "id": "mDWhc7N5f2HN"
      },
      "source": [
        "stacked_encoder = keras.models.Sequential([keras.layers.Flatten(input_shape=[11, 1]), keras.layers.Dense(100, activation=\"selu\"), keras.layers.Dense(5, activation=\"selu\"),])\r\n"
      ],
      "execution_count": 16,
      "outputs": []
    }
  ]
}